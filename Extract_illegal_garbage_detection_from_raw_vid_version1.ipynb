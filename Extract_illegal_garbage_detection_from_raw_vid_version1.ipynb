{
  "nbformat": 4,
  "nbformat_minor": 0,
  "metadata": {
    "colab": {
      "provenance": []
    },
    "kernelspec": {
      "name": "python3",
      "display_name": "Python 3"
    },
    "language_info": {
      "name": "python"
    }
  },
  "cells": [
    {
      "cell_type": "code",
      "execution_count": null,
      "metadata": {
        "colab": {
          "base_uri": "https://localhost:8080/"
        },
        "id": "eEgS83scJC_q",
        "outputId": "c3565ac8-805a-4345-f57b-3603bb1ebd8f"
      },
      "outputs": [
        {
          "output_type": "stream",
          "name": "stdout",
          "text": [
            "Drive already mounted at /content/drive; to attempt to forcibly remount, call drive.mount(\"/content/drive\", force_remount=True).\n"
          ]
        }
      ],
      "source": [
        "from google.colab import drive\n",
        "drive.mount('/content/drive')"
      ]
    },
    {
      "cell_type": "code",
      "source": [
        "# #@title Select YOLOv8 🚀 logger {run: 'auto'}\n",
        "# logger = 'Comet' #@param ['Comet', 'TensorBoard']\n",
        "\n",
        "# if logger == 'Comet':\n",
        "#   %pip install -q comet_ml\n",
        "#   import comet_ml; comet_ml.init()\n",
        "# elif logger == 'TensorBoard':\n",
        "#   %load_ext tensorboard\n",
        "#   %tensorboard --logdir ."
      ],
      "metadata": {
        "id": "r8ZtS3_HKMpr"
      },
      "execution_count": null,
      "outputs": []
    },
    {
      "cell_type": "markdown",
      "source": [
        "###Yolov5"
      ],
      "metadata": {
        "id": "vBRLdjBrK1t_"
      }
    },
    {
      "cell_type": "code",
      "source": [
        "!pip install ultralytics"
      ],
      "metadata": {
        "colab": {
          "base_uri": "https://localhost:8080/"
        },
        "collapsed": true,
        "id": "K4xZMmobK0ch",
        "outputId": "b5312ad4-2eec-4e92-9107-711909f88bea"
      },
      "execution_count": null,
      "outputs": [
        {
          "output_type": "stream",
          "name": "stdout",
          "text": [
            "Requirement already satisfied: ultralytics in /usr/local/lib/python3.10/dist-packages (8.2.81)\n",
            "Requirement already satisfied: numpy<2.0.0,>=1.23.0 in /usr/local/lib/python3.10/dist-packages (from ultralytics) (1.26.4)\n",
            "Requirement already satisfied: matplotlib>=3.3.0 in /usr/local/lib/python3.10/dist-packages (from ultralytics) (3.7.1)\n",
            "Requirement already satisfied: opencv-python>=4.6.0 in /usr/local/lib/python3.10/dist-packages (from ultralytics) (4.10.0.84)\n",
            "Requirement already satisfied: pillow>=7.1.2 in /usr/local/lib/python3.10/dist-packages (from ultralytics) (10.4.0)\n",
            "Requirement already satisfied: pyyaml>=5.3.1 in /usr/local/lib/python3.10/dist-packages (from ultralytics) (6.0.2)\n",
            "Requirement already satisfied: requests>=2.23.0 in /usr/local/lib/python3.10/dist-packages (from ultralytics) (2.32.3)\n",
            "Requirement already satisfied: scipy>=1.4.1 in /usr/local/lib/python3.10/dist-packages (from ultralytics) (1.13.1)\n",
            "Requirement already satisfied: torch>=1.8.0 in /usr/local/lib/python3.10/dist-packages (from ultralytics) (2.3.1+cu121)\n",
            "Requirement already satisfied: torchvision>=0.9.0 in /usr/local/lib/python3.10/dist-packages (from ultralytics) (0.18.1+cu121)\n",
            "Requirement already satisfied: tqdm>=4.64.0 in /usr/local/lib/python3.10/dist-packages (from ultralytics) (4.66.5)\n",
            "Requirement already satisfied: psutil in /usr/local/lib/python3.10/dist-packages (from ultralytics) (5.9.5)\n",
            "Requirement already satisfied: py-cpuinfo in /usr/local/lib/python3.10/dist-packages (from ultralytics) (9.0.0)\n",
            "Requirement already satisfied: pandas>=1.1.4 in /usr/local/lib/python3.10/dist-packages (from ultralytics) (2.1.4)\n",
            "Requirement already satisfied: seaborn>=0.11.0 in /usr/local/lib/python3.10/dist-packages (from ultralytics) (0.13.1)\n",
            "Requirement already satisfied: ultralytics-thop>=2.0.0 in /usr/local/lib/python3.10/dist-packages (from ultralytics) (2.0.5)\n",
            "Requirement already satisfied: contourpy>=1.0.1 in /usr/local/lib/python3.10/dist-packages (from matplotlib>=3.3.0->ultralytics) (1.2.1)\n",
            "Requirement already satisfied: cycler>=0.10 in /usr/local/lib/python3.10/dist-packages (from matplotlib>=3.3.0->ultralytics) (0.12.1)\n",
            "Requirement already satisfied: fonttools>=4.22.0 in /usr/local/lib/python3.10/dist-packages (from matplotlib>=3.3.0->ultralytics) (4.53.1)\n",
            "Requirement already satisfied: kiwisolver>=1.0.1 in /usr/local/lib/python3.10/dist-packages (from matplotlib>=3.3.0->ultralytics) (1.4.5)\n",
            "Requirement already satisfied: packaging>=20.0 in /usr/local/lib/python3.10/dist-packages (from matplotlib>=3.3.0->ultralytics) (24.1)\n",
            "Requirement already satisfied: pyparsing>=2.3.1 in /usr/local/lib/python3.10/dist-packages (from matplotlib>=3.3.0->ultralytics) (3.1.2)\n",
            "Requirement already satisfied: python-dateutil>=2.7 in /usr/local/lib/python3.10/dist-packages (from matplotlib>=3.3.0->ultralytics) (2.8.2)\n",
            "Requirement already satisfied: pytz>=2020.1 in /usr/local/lib/python3.10/dist-packages (from pandas>=1.1.4->ultralytics) (2024.1)\n",
            "Requirement already satisfied: tzdata>=2022.1 in /usr/local/lib/python3.10/dist-packages (from pandas>=1.1.4->ultralytics) (2024.1)\n",
            "Requirement already satisfied: charset-normalizer<4,>=2 in /usr/local/lib/python3.10/dist-packages (from requests>=2.23.0->ultralytics) (3.3.2)\n",
            "Requirement already satisfied: idna<4,>=2.5 in /usr/local/lib/python3.10/dist-packages (from requests>=2.23.0->ultralytics) (3.7)\n",
            "Requirement already satisfied: urllib3<3,>=1.21.1 in /usr/local/lib/python3.10/dist-packages (from requests>=2.23.0->ultralytics) (2.0.7)\n",
            "Requirement already satisfied: certifi>=2017.4.17 in /usr/local/lib/python3.10/dist-packages (from requests>=2.23.0->ultralytics) (2024.7.4)\n",
            "Requirement already satisfied: filelock in /usr/local/lib/python3.10/dist-packages (from torch>=1.8.0->ultralytics) (3.15.4)\n",
            "Requirement already satisfied: typing-extensions>=4.8.0 in /usr/local/lib/python3.10/dist-packages (from torch>=1.8.0->ultralytics) (4.12.2)\n",
            "Requirement already satisfied: sympy in /usr/local/lib/python3.10/dist-packages (from torch>=1.8.0->ultralytics) (1.13.2)\n",
            "Requirement already satisfied: networkx in /usr/local/lib/python3.10/dist-packages (from torch>=1.8.0->ultralytics) (3.3)\n",
            "Requirement already satisfied: jinja2 in /usr/local/lib/python3.10/dist-packages (from torch>=1.8.0->ultralytics) (3.1.4)\n",
            "Requirement already satisfied: fsspec in /usr/local/lib/python3.10/dist-packages (from torch>=1.8.0->ultralytics) (2024.6.1)\n",
            "Requirement already satisfied: nvidia-cuda-nvrtc-cu12==12.1.105 in /usr/local/lib/python3.10/dist-packages (from torch>=1.8.0->ultralytics) (12.1.105)\n",
            "Requirement already satisfied: nvidia-cuda-runtime-cu12==12.1.105 in /usr/local/lib/python3.10/dist-packages (from torch>=1.8.0->ultralytics) (12.1.105)\n",
            "Requirement already satisfied: nvidia-cuda-cupti-cu12==12.1.105 in /usr/local/lib/python3.10/dist-packages (from torch>=1.8.0->ultralytics) (12.1.105)\n",
            "Requirement already satisfied: nvidia-cudnn-cu12==8.9.2.26 in /usr/local/lib/python3.10/dist-packages (from torch>=1.8.0->ultralytics) (8.9.2.26)\n",
            "Requirement already satisfied: nvidia-cublas-cu12==12.1.3.1 in /usr/local/lib/python3.10/dist-packages (from torch>=1.8.0->ultralytics) (12.1.3.1)\n",
            "Requirement already satisfied: nvidia-cufft-cu12==11.0.2.54 in /usr/local/lib/python3.10/dist-packages (from torch>=1.8.0->ultralytics) (11.0.2.54)\n",
            "Requirement already satisfied: nvidia-curand-cu12==10.3.2.106 in /usr/local/lib/python3.10/dist-packages (from torch>=1.8.0->ultralytics) (10.3.2.106)\n",
            "Requirement already satisfied: nvidia-cusolver-cu12==11.4.5.107 in /usr/local/lib/python3.10/dist-packages (from torch>=1.8.0->ultralytics) (11.4.5.107)\n",
            "Requirement already satisfied: nvidia-cusparse-cu12==12.1.0.106 in /usr/local/lib/python3.10/dist-packages (from torch>=1.8.0->ultralytics) (12.1.0.106)\n",
            "Requirement already satisfied: nvidia-nccl-cu12==2.20.5 in /usr/local/lib/python3.10/dist-packages (from torch>=1.8.0->ultralytics) (2.20.5)\n",
            "Requirement already satisfied: nvidia-nvtx-cu12==12.1.105 in /usr/local/lib/python3.10/dist-packages (from torch>=1.8.0->ultralytics) (12.1.105)\n",
            "Requirement already satisfied: triton==2.3.1 in /usr/local/lib/python3.10/dist-packages (from torch>=1.8.0->ultralytics) (2.3.1)\n",
            "Requirement already satisfied: nvidia-nvjitlink-cu12 in /usr/local/lib/python3.10/dist-packages (from nvidia-cusolver-cu12==11.4.5.107->torch>=1.8.0->ultralytics) (12.6.20)\n",
            "Requirement already satisfied: six>=1.5 in /usr/local/lib/python3.10/dist-packages (from python-dateutil>=2.7->matplotlib>=3.3.0->ultralytics) (1.16.0)\n",
            "Requirement already satisfied: MarkupSafe>=2.0 in /usr/local/lib/python3.10/dist-packages (from jinja2->torch>=1.8.0->ultralytics) (2.1.5)\n",
            "Requirement already satisfied: mpmath<1.4,>=1.1.0 in /usr/local/lib/python3.10/dist-packages (from sympy->torch>=1.8.0->ultralytics) (1.3.0)\n"
          ]
        }
      ]
    },
    {
      "cell_type": "code",
      "source": [
        "!git clone https://github.com/ultralytics/yolov5.git\n",
        "\n",
        "%cd /content/yolov5/\n",
        "!pip install -r requirements.txt"
      ],
      "metadata": {
        "colab": {
          "base_uri": "https://localhost:8080/"
        },
        "id": "4r1MTOFHMdgy",
        "outputId": "b7588941-fb66-4c9e-f26c-f33895e90dff"
      },
      "execution_count": null,
      "outputs": [
        {
          "output_type": "stream",
          "name": "stdout",
          "text": [
            "fatal: destination path 'yolov5' already exists and is not an empty directory.\n",
            "/content/yolov5\n",
            "Requirement already satisfied: gitpython>=3.1.30 in /usr/local/lib/python3.10/dist-packages (from -r requirements.txt (line 5)) (3.1.43)\n",
            "Requirement already satisfied: matplotlib>=3.3 in /usr/local/lib/python3.10/dist-packages (from -r requirements.txt (line 6)) (3.7.1)\n",
            "Requirement already satisfied: numpy>=1.23.5 in /usr/local/lib/python3.10/dist-packages (from -r requirements.txt (line 7)) (1.26.4)\n",
            "Requirement already satisfied: opencv-python>=4.1.1 in /usr/local/lib/python3.10/dist-packages (from -r requirements.txt (line 8)) (4.10.0.84)\n",
            "Requirement already satisfied: pillow>=10.3.0 in /usr/local/lib/python3.10/dist-packages (from -r requirements.txt (line 9)) (10.4.0)\n",
            "Requirement already satisfied: psutil in /usr/local/lib/python3.10/dist-packages (from -r requirements.txt (line 10)) (5.9.5)\n",
            "Requirement already satisfied: PyYAML>=5.3.1 in /usr/local/lib/python3.10/dist-packages (from -r requirements.txt (line 11)) (6.0.2)\n",
            "Requirement already satisfied: requests>=2.32.0 in /usr/local/lib/python3.10/dist-packages (from -r requirements.txt (line 12)) (2.32.3)\n",
            "Requirement already satisfied: scipy>=1.4.1 in /usr/local/lib/python3.10/dist-packages (from -r requirements.txt (line 13)) (1.13.1)\n",
            "Requirement already satisfied: thop>=0.1.1 in /usr/local/lib/python3.10/dist-packages (from -r requirements.txt (line 14)) (0.1.1.post2209072238)\n",
            "Requirement already satisfied: torch>=1.8.0 in /usr/local/lib/python3.10/dist-packages (from -r requirements.txt (line 15)) (2.3.1+cu121)\n",
            "Requirement already satisfied: torchvision>=0.9.0 in /usr/local/lib/python3.10/dist-packages (from -r requirements.txt (line 16)) (0.18.1+cu121)\n",
            "Requirement already satisfied: tqdm>=4.64.0 in /usr/local/lib/python3.10/dist-packages (from -r requirements.txt (line 17)) (4.66.5)\n",
            "Requirement already satisfied: ultralytics>=8.2.34 in /usr/local/lib/python3.10/dist-packages (from -r requirements.txt (line 18)) (8.2.81)\n",
            "Requirement already satisfied: pandas>=1.1.4 in /usr/local/lib/python3.10/dist-packages (from -r requirements.txt (line 27)) (2.1.4)\n",
            "Requirement already satisfied: seaborn>=0.11.0 in /usr/local/lib/python3.10/dist-packages (from -r requirements.txt (line 28)) (0.13.1)\n",
            "Requirement already satisfied: setuptools>=70.0.0 in /usr/local/lib/python3.10/dist-packages (from -r requirements.txt (line 42)) (71.0.4)\n",
            "Requirement already satisfied: gitdb<5,>=4.0.1 in /usr/local/lib/python3.10/dist-packages (from gitpython>=3.1.30->-r requirements.txt (line 5)) (4.0.11)\n",
            "Requirement already satisfied: contourpy>=1.0.1 in /usr/local/lib/python3.10/dist-packages (from matplotlib>=3.3->-r requirements.txt (line 6)) (1.2.1)\n",
            "Requirement already satisfied: cycler>=0.10 in /usr/local/lib/python3.10/dist-packages (from matplotlib>=3.3->-r requirements.txt (line 6)) (0.12.1)\n",
            "Requirement already satisfied: fonttools>=4.22.0 in /usr/local/lib/python3.10/dist-packages (from matplotlib>=3.3->-r requirements.txt (line 6)) (4.53.1)\n",
            "Requirement already satisfied: kiwisolver>=1.0.1 in /usr/local/lib/python3.10/dist-packages (from matplotlib>=3.3->-r requirements.txt (line 6)) (1.4.5)\n",
            "Requirement already satisfied: packaging>=20.0 in /usr/local/lib/python3.10/dist-packages (from matplotlib>=3.3->-r requirements.txt (line 6)) (24.1)\n",
            "Requirement already satisfied: pyparsing>=2.3.1 in /usr/local/lib/python3.10/dist-packages (from matplotlib>=3.3->-r requirements.txt (line 6)) (3.1.2)\n",
            "Requirement already satisfied: python-dateutil>=2.7 in /usr/local/lib/python3.10/dist-packages (from matplotlib>=3.3->-r requirements.txt (line 6)) (2.8.2)\n",
            "Requirement already satisfied: charset-normalizer<4,>=2 in /usr/local/lib/python3.10/dist-packages (from requests>=2.32.0->-r requirements.txt (line 12)) (3.3.2)\n",
            "Requirement already satisfied: idna<4,>=2.5 in /usr/local/lib/python3.10/dist-packages (from requests>=2.32.0->-r requirements.txt (line 12)) (3.7)\n",
            "Requirement already satisfied: urllib3<3,>=1.21.1 in /usr/local/lib/python3.10/dist-packages (from requests>=2.32.0->-r requirements.txt (line 12)) (2.0.7)\n",
            "Requirement already satisfied: certifi>=2017.4.17 in /usr/local/lib/python3.10/dist-packages (from requests>=2.32.0->-r requirements.txt (line 12)) (2024.7.4)\n",
            "Requirement already satisfied: filelock in /usr/local/lib/python3.10/dist-packages (from torch>=1.8.0->-r requirements.txt (line 15)) (3.15.4)\n",
            "Requirement already satisfied: typing-extensions>=4.8.0 in /usr/local/lib/python3.10/dist-packages (from torch>=1.8.0->-r requirements.txt (line 15)) (4.12.2)\n",
            "Requirement already satisfied: sympy in /usr/local/lib/python3.10/dist-packages (from torch>=1.8.0->-r requirements.txt (line 15)) (1.13.2)\n",
            "Requirement already satisfied: networkx in /usr/local/lib/python3.10/dist-packages (from torch>=1.8.0->-r requirements.txt (line 15)) (3.3)\n",
            "Requirement already satisfied: jinja2 in /usr/local/lib/python3.10/dist-packages (from torch>=1.8.0->-r requirements.txt (line 15)) (3.1.4)\n",
            "Requirement already satisfied: fsspec in /usr/local/lib/python3.10/dist-packages (from torch>=1.8.0->-r requirements.txt (line 15)) (2024.6.1)\n",
            "Requirement already satisfied: nvidia-cuda-nvrtc-cu12==12.1.105 in /usr/local/lib/python3.10/dist-packages (from torch>=1.8.0->-r requirements.txt (line 15)) (12.1.105)\n",
            "Requirement already satisfied: nvidia-cuda-runtime-cu12==12.1.105 in /usr/local/lib/python3.10/dist-packages (from torch>=1.8.0->-r requirements.txt (line 15)) (12.1.105)\n",
            "Requirement already satisfied: nvidia-cuda-cupti-cu12==12.1.105 in /usr/local/lib/python3.10/dist-packages (from torch>=1.8.0->-r requirements.txt (line 15)) (12.1.105)\n",
            "Requirement already satisfied: nvidia-cudnn-cu12==8.9.2.26 in /usr/local/lib/python3.10/dist-packages (from torch>=1.8.0->-r requirements.txt (line 15)) (8.9.2.26)\n",
            "Requirement already satisfied: nvidia-cublas-cu12==12.1.3.1 in /usr/local/lib/python3.10/dist-packages (from torch>=1.8.0->-r requirements.txt (line 15)) (12.1.3.1)\n",
            "Requirement already satisfied: nvidia-cufft-cu12==11.0.2.54 in /usr/local/lib/python3.10/dist-packages (from torch>=1.8.0->-r requirements.txt (line 15)) (11.0.2.54)\n",
            "Requirement already satisfied: nvidia-curand-cu12==10.3.2.106 in /usr/local/lib/python3.10/dist-packages (from torch>=1.8.0->-r requirements.txt (line 15)) (10.3.2.106)\n",
            "Requirement already satisfied: nvidia-cusolver-cu12==11.4.5.107 in /usr/local/lib/python3.10/dist-packages (from torch>=1.8.0->-r requirements.txt (line 15)) (11.4.5.107)\n",
            "Requirement already satisfied: nvidia-cusparse-cu12==12.1.0.106 in /usr/local/lib/python3.10/dist-packages (from torch>=1.8.0->-r requirements.txt (line 15)) (12.1.0.106)\n",
            "Requirement already satisfied: nvidia-nccl-cu12==2.20.5 in /usr/local/lib/python3.10/dist-packages (from torch>=1.8.0->-r requirements.txt (line 15)) (2.20.5)\n",
            "Requirement already satisfied: nvidia-nvtx-cu12==12.1.105 in /usr/local/lib/python3.10/dist-packages (from torch>=1.8.0->-r requirements.txt (line 15)) (12.1.105)\n",
            "Requirement already satisfied: triton==2.3.1 in /usr/local/lib/python3.10/dist-packages (from torch>=1.8.0->-r requirements.txt (line 15)) (2.3.1)\n",
            "Requirement already satisfied: nvidia-nvjitlink-cu12 in /usr/local/lib/python3.10/dist-packages (from nvidia-cusolver-cu12==11.4.5.107->torch>=1.8.0->-r requirements.txt (line 15)) (12.6.20)\n",
            "Requirement already satisfied: py-cpuinfo in /usr/local/lib/python3.10/dist-packages (from ultralytics>=8.2.34->-r requirements.txt (line 18)) (9.0.0)\n",
            "Requirement already satisfied: ultralytics-thop>=2.0.0 in /usr/local/lib/python3.10/dist-packages (from ultralytics>=8.2.34->-r requirements.txt (line 18)) (2.0.5)\n",
            "Requirement already satisfied: pytz>=2020.1 in /usr/local/lib/python3.10/dist-packages (from pandas>=1.1.4->-r requirements.txt (line 27)) (2024.1)\n",
            "Requirement already satisfied: tzdata>=2022.1 in /usr/local/lib/python3.10/dist-packages (from pandas>=1.1.4->-r requirements.txt (line 27)) (2024.1)\n",
            "Requirement already satisfied: smmap<6,>=3.0.1 in /usr/local/lib/python3.10/dist-packages (from gitdb<5,>=4.0.1->gitpython>=3.1.30->-r requirements.txt (line 5)) (5.0.1)\n",
            "Requirement already satisfied: six>=1.5 in /usr/local/lib/python3.10/dist-packages (from python-dateutil>=2.7->matplotlib>=3.3->-r requirements.txt (line 6)) (1.16.0)\n",
            "Requirement already satisfied: MarkupSafe>=2.0 in /usr/local/lib/python3.10/dist-packages (from jinja2->torch>=1.8.0->-r requirements.txt (line 15)) (2.1.5)\n",
            "Requirement already satisfied: mpmath<1.4,>=1.1.0 in /usr/local/lib/python3.10/dist-packages (from sympy->torch>=1.8.0->-r requirements.txt (line 15)) (1.3.0)\n"
          ]
        }
      ]
    },
    {
      "cell_type": "markdown",
      "source": [
        "### 객체 탐지를 수행할 비디오 파일"
      ],
      "metadata": {
        "id": "7FRz-UUPY7Ev"
      }
    },
    {
      "cell_type": "markdown",
      "source": [
        "좌표 추출 & video inference"
      ],
      "metadata": {
        "id": "VpjqOypeMSVy"
      }
    },
    {
      "cell_type": "code",
      "source": [
        "# # video inference\n",
        "# %%time\n",
        "# !python /content/yolov5/detect.py --weights '/content/drive/MyDrive/best1.pt' --img 1280 --conf 0.4 --source '/content/drive/MyDrive/jytest.mp4'"
      ],
      "metadata": {
        "id": "r5t_24gfK0x-"
      },
      "execution_count": null,
      "outputs": []
    },
    {
      "cell_type": "markdown",
      "source": [
        "영상 yolov5(best1.pt)로 돌려서 garbage detection\n",
        "\n",
        "- 탐지된 결과가 비디오 파일로 /content/yolov5/runs/detect/ 폴더 아래에 저장"
      ],
      "metadata": {
        "id": "bM7vs14xMhRz"
      }
    },
    {
      "cell_type": "code",
      "source": [
        "# video inference /content/yolov5/detect.py\n",
        "# /content/drive/MyDrive/best1.pt\n",
        "\n",
        "# 객체 탐지를 수행할 비디오 파일 : modelingjun.mp4\n",
        "# 탐지된 객체가 포함된 비디오의 결과 : /content/yolov5/runs/detect/exp/modelingjun.mp4)\n",
        "%%time\n",
        "!python /content/yolov5/detect.py --weights '/content/drive/MyDrive/best1.pt' --img 1280 --conf 0.4 --source '/content/drive/MyDrive/video_and_annotation/video3.mp4'"
      ],
      "metadata": {
        "colab": {
          "base_uri": "https://localhost:8080/"
        },
        "id": "L0vyXxFKMhuh",
        "outputId": "02b05e5f-ba07-47d5-b492-6089e08c3fb5"
      },
      "execution_count": null,
      "outputs": [
        {
          "output_type": "stream",
          "name": "stdout",
          "text": [
            "\u001b[34m\u001b[1mdetect: \u001b[0mweights=['/content/drive/MyDrive/best1.pt'], source=/content/drive/MyDrive/video_and_annotation/video3.mp4, data=data/coco128.yaml, imgsz=[1280, 1280], conf_thres=0.4, iou_thres=0.45, max_det=1000, device=, view_img=False, save_txt=False, save_csv=False, save_conf=False, save_crop=False, nosave=False, classes=None, agnostic_nms=False, augment=False, visualize=False, update=False, project=runs/detect, name=exp, exist_ok=False, line_thickness=3, hide_labels=False, hide_conf=False, half=False, dnn=False, vid_stride=1\n",
            "YOLOv5 🚀 v7.0-356-g2070b303 Python-3.10.12 torch-2.3.1+cu121 CPU\n",
            "\n",
            "Fusing layers... \n",
            "YOLOv5s summary: 157 layers, 7018216 parameters, 0 gradients, 15.8 GFLOPs\n",
            "video 1/1 (1/361) /content/drive/MyDrive/video_and_annotation/video3.mp4: 736x1280 (no detections), 979.5ms\n",
            "video 1/1 (2/361) /content/drive/MyDrive/video_and_annotation/video3.mp4: 736x1280 (no detections), 1040.5ms\n",
            "video 1/1 (3/361) /content/drive/MyDrive/video_and_annotation/video3.mp4: 736x1280 (no detections), 944.6ms\n",
            "video 1/1 (4/361) /content/drive/MyDrive/video_and_annotation/video3.mp4: 736x1280 (no detections), 1374.3ms\n",
            "video 1/1 (5/361) /content/drive/MyDrive/video_and_annotation/video3.mp4: 736x1280 (no detections), 1497.8ms\n",
            "video 1/1 (6/361) /content/drive/MyDrive/video_and_annotation/video3.mp4: 736x1280 (no detections), 1429.9ms\n",
            "video 1/1 (7/361) /content/drive/MyDrive/video_and_annotation/video3.mp4: 736x1280 (no detections), 1541.6ms\n",
            "video 1/1 (8/361) /content/drive/MyDrive/video_and_annotation/video3.mp4: 736x1280 (no detections), 1001.8ms\n",
            "video 1/1 (9/361) /content/drive/MyDrive/video_and_annotation/video3.mp4: 736x1280 (no detections), 1034.8ms\n",
            "video 1/1 (10/361) /content/drive/MyDrive/video_and_annotation/video3.mp4: 736x1280 (no detections), 1013.1ms\n",
            "video 1/1 (11/361) /content/drive/MyDrive/video_and_annotation/video3.mp4: 736x1280 (no detections), 1020.0ms\n",
            "video 1/1 (12/361) /content/drive/MyDrive/video_and_annotation/video3.mp4: 736x1280 (no detections), 947.2ms\n",
            "video 1/1 (13/361) /content/drive/MyDrive/video_and_annotation/video3.mp4: 736x1280 (no detections), 944.2ms\n",
            "video 1/1 (14/361) /content/drive/MyDrive/video_and_annotation/video3.mp4: 736x1280 (no detections), 945.5ms\n",
            "video 1/1 (15/361) /content/drive/MyDrive/video_and_annotation/video3.mp4: 736x1280 (no detections), 947.7ms\n",
            "video 1/1 (16/361) /content/drive/MyDrive/video_and_annotation/video3.mp4: 736x1280 (no detections), 970.5ms\n",
            "video 1/1 (17/361) /content/drive/MyDrive/video_and_annotation/video3.mp4: 736x1280 (no detections), 988.9ms\n",
            "video 1/1 (18/361) /content/drive/MyDrive/video_and_annotation/video3.mp4: 736x1280 (no detections), 1429.4ms\n",
            "video 1/1 (19/361) /content/drive/MyDrive/video_and_annotation/video3.mp4: 736x1280 (no detections), 1510.3ms\n",
            "video 1/1 (20/361) /content/drive/MyDrive/video_and_annotation/video3.mp4: 736x1280 (no detections), 1458.1ms\n",
            "video 1/1 (21/361) /content/drive/MyDrive/video_and_annotation/video3.mp4: 736x1280 (no detections), 1335.6ms\n",
            "video 1/1 (22/361) /content/drive/MyDrive/video_and_annotation/video3.mp4: 736x1280 (no detections), 967.9ms\n",
            "video 1/1 (23/361) /content/drive/MyDrive/video_and_annotation/video3.mp4: 736x1280 (no detections), 929.1ms\n",
            "video 1/1 (24/361) /content/drive/MyDrive/video_and_annotation/video3.mp4: 736x1280 (no detections), 943.3ms\n",
            "video 1/1 (25/361) /content/drive/MyDrive/video_and_annotation/video3.mp4: 736x1280 (no detections), 965.6ms\n",
            "video 1/1 (26/361) /content/drive/MyDrive/video_and_annotation/video3.mp4: 736x1280 (no detections), 939.2ms\n",
            "video 1/1 (27/361) /content/drive/MyDrive/video_and_annotation/video3.mp4: 736x1280 (no detections), 971.3ms\n",
            "video 1/1 (28/361) /content/drive/MyDrive/video_and_annotation/video3.mp4: 736x1280 (no detections), 951.5ms\n",
            "video 1/1 (29/361) /content/drive/MyDrive/video_and_annotation/video3.mp4: 736x1280 (no detections), 978.3ms\n",
            "video 1/1 (30/361) /content/drive/MyDrive/video_and_annotation/video3.mp4: 736x1280 (no detections), 1525.9ms\n",
            "video 1/1 (31/361) /content/drive/MyDrive/video_and_annotation/video3.mp4: 736x1280 (no detections), 1419.6ms\n",
            "video 1/1 (32/361) /content/drive/MyDrive/video_and_annotation/video3.mp4: 736x1280 (no detections), 1440.1ms\n",
            "video 1/1 (33/361) /content/drive/MyDrive/video_and_annotation/video3.mp4: 736x1280 (no detections), 1476.4ms\n",
            "video 1/1 (34/361) /content/drive/MyDrive/video_and_annotation/video3.mp4: 736x1280 (no detections), 1464.4ms\n",
            "video 1/1 (35/361) /content/drive/MyDrive/video_and_annotation/video3.mp4: 736x1280 (no detections), 917.1ms\n",
            "video 1/1 (36/361) /content/drive/MyDrive/video_and_annotation/video3.mp4: 736x1280 (no detections), 937.7ms\n",
            "video 1/1 (37/361) /content/drive/MyDrive/video_and_annotation/video3.mp4: 736x1280 1 person, 961.1ms\n",
            "video 1/1 (38/361) /content/drive/MyDrive/video_and_annotation/video3.mp4: 736x1280 1 person, 920.0ms\n",
            "video 1/1 (39/361) /content/drive/MyDrive/video_and_annotation/video3.mp4: 736x1280 1 person, 926.0ms\n",
            "video 1/1 (40/361) /content/drive/MyDrive/video_and_annotation/video3.mp4: 736x1280 1 person, 918.2ms\n",
            "video 1/1 (41/361) /content/drive/MyDrive/video_and_annotation/video3.mp4: 736x1280 1 person, 906.8ms\n",
            "video 1/1 (42/361) /content/drive/MyDrive/video_and_annotation/video3.mp4: 736x1280 1 person, 924.2ms\n",
            "video 1/1 (43/361) /content/drive/MyDrive/video_and_annotation/video3.mp4: 736x1280 1 person, 919.7ms\n",
            "video 1/1 (44/361) /content/drive/MyDrive/video_and_annotation/video3.mp4: 736x1280 2 persons, 946.6ms\n",
            "video 1/1 (45/361) /content/drive/MyDrive/video_and_annotation/video3.mp4: 736x1280 2 persons, 1293.2ms\n",
            "video 1/1 (46/361) /content/drive/MyDrive/video_and_annotation/video3.mp4: 736x1280 2 persons, 1396.0ms\n",
            "video 1/1 (47/361) /content/drive/MyDrive/video_and_annotation/video3.mp4: 736x1280 2 persons, 1404.6ms\n",
            "video 1/1 (48/361) /content/drive/MyDrive/video_and_annotation/video3.mp4: 736x1280 2 persons, 1464.0ms\n",
            "video 1/1 (49/361) /content/drive/MyDrive/video_and_annotation/video3.mp4: 736x1280 1 garbage, 3 persons, 1020.0ms\n",
            "video 1/1 (50/361) /content/drive/MyDrive/video_and_annotation/video3.mp4: 736x1280 2 garbages, 2 persons, 927.5ms\n",
            "video 1/1 (51/361) /content/drive/MyDrive/video_and_annotation/video3.mp4: 736x1280 2 garbages, 2 persons, 904.0ms\n",
            "video 1/1 (52/361) /content/drive/MyDrive/video_and_annotation/video3.mp4: 736x1280 1 garbage, 2 persons, 945.6ms\n",
            "video 1/1 (53/361) /content/drive/MyDrive/video_and_annotation/video3.mp4: 736x1280 1 garbage, 973.8ms\n",
            "video 1/1 (54/361) /content/drive/MyDrive/video_and_annotation/video3.mp4: 736x1280 2 persons, 905.4ms\n",
            "video 1/1 (55/361) /content/drive/MyDrive/video_and_annotation/video3.mp4: 736x1280 2 persons, 916.6ms\n",
            "video 1/1 (56/361) /content/drive/MyDrive/video_and_annotation/video3.mp4: 736x1280 1 person, 907.1ms\n",
            "video 1/1 (57/361) /content/drive/MyDrive/video_and_annotation/video3.mp4: 736x1280 1 person, 939.5ms\n",
            "video 1/1 (58/361) /content/drive/MyDrive/video_and_annotation/video3.mp4: 736x1280 1 person, 913.3ms\n",
            "video 1/1 (59/361) /content/drive/MyDrive/video_and_annotation/video3.mp4: 736x1280 1 garbage, 1 person, 1620.2ms\n",
            "video 1/1 (60/361) /content/drive/MyDrive/video_and_annotation/video3.mp4: 736x1280 1 person, 1730.4ms\n",
            "video 1/1 (61/361) /content/drive/MyDrive/video_and_annotation/video3.mp4: 736x1280 (no detections), 1425.8ms\n",
            "video 1/1 (62/361) /content/drive/MyDrive/video_and_annotation/video3.mp4: 736x1280 (no detections), 1565.8ms\n",
            "video 1/1 (63/361) /content/drive/MyDrive/video_and_annotation/video3.mp4: 736x1280 (no detections), 924.1ms\n",
            "video 1/1 (64/361) /content/drive/MyDrive/video_and_annotation/video3.mp4: 736x1280 (no detections), 933.1ms\n",
            "video 1/1 (65/361) /content/drive/MyDrive/video_and_annotation/video3.mp4: 736x1280 (no detections), 940.0ms\n",
            "video 1/1 (66/361) /content/drive/MyDrive/video_and_annotation/video3.mp4: 736x1280 (no detections), 910.3ms\n",
            "video 1/1 (67/361) /content/drive/MyDrive/video_and_annotation/video3.mp4: 736x1280 (no detections), 897.2ms\n",
            "video 1/1 (68/361) /content/drive/MyDrive/video_and_annotation/video3.mp4: 736x1280 (no detections), 922.6ms\n",
            "video 1/1 (69/361) /content/drive/MyDrive/video_and_annotation/video3.mp4: 736x1280 (no detections), 920.2ms\n",
            "video 1/1 (70/361) /content/drive/MyDrive/video_and_annotation/video3.mp4: 736x1280 (no detections), 953.8ms\n",
            "video 1/1 (71/361) /content/drive/MyDrive/video_and_annotation/video3.mp4: 736x1280 (no detections), 1000.9ms\n",
            "video 1/1 (72/361) /content/drive/MyDrive/video_and_annotation/video3.mp4: 736x1280 (no detections), 936.1ms\n",
            "video 1/1 (73/361) /content/drive/MyDrive/video_and_annotation/video3.mp4: 736x1280 (no detections), 1376.3ms\n",
            "video 1/1 (74/361) /content/drive/MyDrive/video_and_annotation/video3.mp4: 736x1280 (no detections), 1448.2ms\n",
            "video 1/1 (75/361) /content/drive/MyDrive/video_and_annotation/video3.mp4: 736x1280 (no detections), 1392.6ms\n",
            "video 1/1 (76/361) /content/drive/MyDrive/video_and_annotation/video3.mp4: 736x1280 (no detections), 1466.2ms\n",
            "video 1/1 (77/361) /content/drive/MyDrive/video_and_annotation/video3.mp4: 736x1280 (no detections), 972.1ms\n",
            "video 1/1 (78/361) /content/drive/MyDrive/video_and_annotation/video3.mp4: 736x1280 (no detections), 930.0ms\n",
            "video 1/1 (79/361) /content/drive/MyDrive/video_and_annotation/video3.mp4: 736x1280 (no detections), 934.4ms\n",
            "video 1/1 (80/361) /content/drive/MyDrive/video_and_annotation/video3.mp4: 736x1280 (no detections), 892.3ms\n",
            "video 1/1 (81/361) /content/drive/MyDrive/video_and_annotation/video3.mp4: 736x1280 (no detections), 910.1ms\n",
            "video 1/1 (82/361) /content/drive/MyDrive/video_and_annotation/video3.mp4: 736x1280 (no detections), 885.9ms\n",
            "video 1/1 (83/361) /content/drive/MyDrive/video_and_annotation/video3.mp4: 736x1280 (no detections), 971.2ms\n",
            "video 1/1 (84/361) /content/drive/MyDrive/video_and_annotation/video3.mp4: 736x1280 (no detections), 1328.8ms\n",
            "video 1/1 (85/361) /content/drive/MyDrive/video_and_annotation/video3.mp4: 736x1280 (no detections), 1466.7ms\n",
            "video 1/1 (86/361) /content/drive/MyDrive/video_and_annotation/video3.mp4: 736x1280 (no detections), 1512.4ms\n",
            "video 1/1 (87/361) /content/drive/MyDrive/video_and_annotation/video3.mp4: 736x1280 (no detections), 1662.9ms\n",
            "video 1/1 (88/361) /content/drive/MyDrive/video_and_annotation/video3.mp4: 736x1280 (no detections), 2535.1ms\n",
            "video 1/1 (89/361) /content/drive/MyDrive/video_and_annotation/video3.mp4: 736x1280 (no detections), 1473.7ms\n",
            "video 1/1 (90/361) /content/drive/MyDrive/video_and_annotation/video3.mp4: 736x1280 (no detections), 1442.8ms\n",
            "video 1/1 (91/361) /content/drive/MyDrive/video_and_annotation/video3.mp4: 736x1280 (no detections), 1008.2ms\n",
            "video 1/1 (92/361) /content/drive/MyDrive/video_and_annotation/video3.mp4: 736x1280 (no detections), 920.9ms\n",
            "video 1/1 (93/361) /content/drive/MyDrive/video_and_annotation/video3.mp4: 736x1280 (no detections), 901.2ms\n",
            "video 1/1 (94/361) /content/drive/MyDrive/video_and_annotation/video3.mp4: 736x1280 (no detections), 931.1ms\n",
            "video 1/1 (95/361) /content/drive/MyDrive/video_and_annotation/video3.mp4: 736x1280 (no detections), 916.0ms\n",
            "video 1/1 (96/361) /content/drive/MyDrive/video_and_annotation/video3.mp4: 736x1280 (no detections), 915.1ms\n",
            "video 1/1 (97/361) /content/drive/MyDrive/video_and_annotation/video3.mp4: 736x1280 (no detections), 916.0ms\n",
            "video 1/1 (98/361) /content/drive/MyDrive/video_and_annotation/video3.mp4: 736x1280 (no detections), 890.6ms\n",
            "video 1/1 (99/361) /content/drive/MyDrive/video_and_annotation/video3.mp4: 736x1280 (no detections), 930.2ms\n",
            "video 1/1 (100/361) /content/drive/MyDrive/video_and_annotation/video3.mp4: 736x1280 (no detections), 937.0ms\n",
            "video 1/1 (101/361) /content/drive/MyDrive/video_and_annotation/video3.mp4: 736x1280 (no detections), 1051.0ms\n",
            "video 1/1 (102/361) /content/drive/MyDrive/video_and_annotation/video3.mp4: 736x1280 (no detections), 1404.6ms\n",
            "video 1/1 (103/361) /content/drive/MyDrive/video_and_annotation/video3.mp4: 736x1280 (no detections), 1436.1ms\n",
            "video 1/1 (104/361) /content/drive/MyDrive/video_and_annotation/video3.mp4: 736x1280 (no detections), 1477.9ms\n",
            "video 1/1 (105/361) /content/drive/MyDrive/video_and_annotation/video3.mp4: 736x1280 (no detections), 1262.6ms\n",
            "video 1/1 (106/361) /content/drive/MyDrive/video_and_annotation/video3.mp4: 736x1280 (no detections), 901.6ms\n",
            "video 1/1 (107/361) /content/drive/MyDrive/video_and_annotation/video3.mp4: 736x1280 (no detections), 935.0ms\n",
            "video 1/1 (108/361) /content/drive/MyDrive/video_and_annotation/video3.mp4: 736x1280 (no detections), 907.3ms\n",
            "video 1/1 (109/361) /content/drive/MyDrive/video_and_annotation/video3.mp4: 736x1280 (no detections), 893.5ms\n",
            "video 1/1 (110/361) /content/drive/MyDrive/video_and_annotation/video3.mp4: 736x1280 (no detections), 883.0ms\n",
            "video 1/1 (111/361) /content/drive/MyDrive/video_and_annotation/video3.mp4: 736x1280 (no detections), 912.9ms\n",
            "video 1/1 (112/361) /content/drive/MyDrive/video_and_annotation/video3.mp4: 736x1280 (no detections), 940.9ms\n",
            "video 1/1 (113/361) /content/drive/MyDrive/video_and_annotation/video3.mp4: 736x1280 (no detections), 938.6ms\n",
            "video 1/1 (114/361) /content/drive/MyDrive/video_and_annotation/video3.mp4: 736x1280 (no detections), 920.3ms\n",
            "video 1/1 (115/361) /content/drive/MyDrive/video_and_annotation/video3.mp4: 736x1280 (no detections), 1007.9ms\n",
            "video 1/1 (116/361) /content/drive/MyDrive/video_and_annotation/video3.mp4: 736x1280 (no detections), 1994.0ms\n",
            "video 1/1 (117/361) /content/drive/MyDrive/video_and_annotation/video3.mp4: 736x1280 (no detections), 1410.3ms\n",
            "video 1/1 (118/361) /content/drive/MyDrive/video_and_annotation/video3.mp4: 736x1280 (no detections), 1432.4ms\n",
            "video 1/1 (119/361) /content/drive/MyDrive/video_and_annotation/video3.mp4: 736x1280 (no detections), 1345.7ms\n",
            "video 1/1 (120/361) /content/drive/MyDrive/video_and_annotation/video3.mp4: 736x1280 (no detections), 953.4ms\n",
            "video 1/1 (121/361) /content/drive/MyDrive/video_and_annotation/video3.mp4: 736x1280 (no detections), 949.3ms\n",
            "video 1/1 (122/361) /content/drive/MyDrive/video_and_annotation/video3.mp4: 736x1280 (no detections), 904.6ms\n",
            "video 1/1 (123/361) /content/drive/MyDrive/video_and_annotation/video3.mp4: 736x1280 (no detections), 899.4ms\n",
            "video 1/1 (124/361) /content/drive/MyDrive/video_and_annotation/video3.mp4: 736x1280 (no detections), 892.9ms\n",
            "video 1/1 (125/361) /content/drive/MyDrive/video_and_annotation/video3.mp4: 736x1280 (no detections), 909.4ms\n",
            "video 1/1 (126/361) /content/drive/MyDrive/video_and_annotation/video3.mp4: 736x1280 (no detections), 911.7ms\n",
            "video 1/1 (127/361) /content/drive/MyDrive/video_and_annotation/video3.mp4: 736x1280 (no detections), 903.2ms\n",
            "video 1/1 (128/361) /content/drive/MyDrive/video_and_annotation/video3.mp4: 736x1280 (no detections), 904.1ms\n",
            "video 1/1 (129/361) /content/drive/MyDrive/video_and_annotation/video3.mp4: 736x1280 (no detections), 922.9ms\n",
            "video 1/1 (130/361) /content/drive/MyDrive/video_and_annotation/video3.mp4: 736x1280 (no detections), 1364.1ms\n",
            "video 1/1 (131/361) /content/drive/MyDrive/video_and_annotation/video3.mp4: 736x1280 (no detections), 1844.3ms\n",
            "video 1/1 (132/361) /content/drive/MyDrive/video_and_annotation/video3.mp4: 736x1280 (no detections), 1447.5ms\n",
            "video 1/1 (133/361) /content/drive/MyDrive/video_and_annotation/video3.mp4: 736x1280 (no detections), 1486.8ms\n",
            "video 1/1 (134/361) /content/drive/MyDrive/video_and_annotation/video3.mp4: 736x1280 (no detections), 971.2ms\n",
            "video 1/1 (135/361) /content/drive/MyDrive/video_and_annotation/video3.mp4: 736x1280 (no detections), 1055.9ms\n",
            "video 1/1 (136/361) /content/drive/MyDrive/video_and_annotation/video3.mp4: 736x1280 (no detections), 943.2ms\n",
            "video 1/1 (137/361) /content/drive/MyDrive/video_and_annotation/video3.mp4: 736x1280 (no detections), 917.2ms\n",
            "video 1/1 (138/361) /content/drive/MyDrive/video_and_annotation/video3.mp4: 736x1280 (no detections), 955.8ms\n",
            "video 1/1 (139/361) /content/drive/MyDrive/video_and_annotation/video3.mp4: 736x1280 (no detections), 939.5ms\n",
            "video 1/1 (140/361) /content/drive/MyDrive/video_and_annotation/video3.mp4: 736x1280 (no detections), 903.9ms\n",
            "video 1/1 (141/361) /content/drive/MyDrive/video_and_annotation/video3.mp4: 736x1280 (no detections), 905.1ms\n",
            "video 1/1 (142/361) /content/drive/MyDrive/video_and_annotation/video3.mp4: 736x1280 (no detections), 921.6ms\n",
            "video 1/1 (143/361) /content/drive/MyDrive/video_and_annotation/video3.mp4: 736x1280 (no detections), 926.2ms\n",
            "video 1/1 (144/361) /content/drive/MyDrive/video_and_annotation/video3.mp4: 736x1280 (no detections), 1309.5ms\n",
            "video 1/1 (145/361) /content/drive/MyDrive/video_and_annotation/video3.mp4: 736x1280 (no detections), 1832.9ms\n",
            "video 1/1 (146/361) /content/drive/MyDrive/video_and_annotation/video3.mp4: 736x1280 (no detections), 1434.2ms\n",
            "video 1/1 (147/361) /content/drive/MyDrive/video_and_annotation/video3.mp4: 736x1280 (no detections), 1552.6ms\n",
            "video 1/1 (148/361) /content/drive/MyDrive/video_and_annotation/video3.mp4: 736x1280 (no detections), 1002.6ms\n",
            "video 1/1 (149/361) /content/drive/MyDrive/video_and_annotation/video3.mp4: 736x1280 (no detections), 917.1ms\n",
            "video 1/1 (150/361) /content/drive/MyDrive/video_and_annotation/video3.mp4: 736x1280 (no detections), 925.2ms\n",
            "video 1/1 (151/361) /content/drive/MyDrive/video_and_annotation/video3.mp4: 736x1280 (no detections), 952.2ms\n",
            "video 1/1 (152/361) /content/drive/MyDrive/video_and_annotation/video3.mp4: 736x1280 (no detections), 879.5ms\n",
            "video 1/1 (153/361) /content/drive/MyDrive/video_and_annotation/video3.mp4: 736x1280 (no detections), 901.9ms\n",
            "video 1/1 (154/361) /content/drive/MyDrive/video_and_annotation/video3.mp4: 736x1280 1 garbage, 2 persons, 930.4ms\n",
            "video 1/1 (155/361) /content/drive/MyDrive/video_and_annotation/video3.mp4: 736x1280 2 garbages, 1 person, 914.1ms\n",
            "video 1/1 (156/361) /content/drive/MyDrive/video_and_annotation/video3.mp4: 736x1280 1 person, 984.7ms\n",
            "video 1/1 (157/361) /content/drive/MyDrive/video_and_annotation/video3.mp4: 736x1280 (no detections), 931.0ms\n",
            "video 1/1 (158/361) /content/drive/MyDrive/video_and_annotation/video3.mp4: 736x1280 (no detections), 1170.8ms\n",
            "video 1/1 (159/361) /content/drive/MyDrive/video_and_annotation/video3.mp4: 736x1280 1 garbage, 1 person, 1377.9ms\n",
            "video 1/1 (160/361) /content/drive/MyDrive/video_and_annotation/video3.mp4: 736x1280 2 garbages, 2 persons, 1418.6ms\n",
            "video 1/1 (161/361) /content/drive/MyDrive/video_and_annotation/video3.mp4: 736x1280 2 garbages, 2 persons, 1436.6ms\n",
            "video 1/1 (162/361) /content/drive/MyDrive/video_and_annotation/video3.mp4: 736x1280 2 persons, 1235.3ms\n",
            "video 1/1 (163/361) /content/drive/MyDrive/video_and_annotation/video3.mp4: 736x1280 1 garbage, 1 person, 920.8ms\n",
            "video 1/1 (164/361) /content/drive/MyDrive/video_and_annotation/video3.mp4: 736x1280 2 garbages, 1 person, 931.4ms\n",
            "video 1/1 (165/361) /content/drive/MyDrive/video_and_annotation/video3.mp4: 736x1280 2 garbages, 1 person, 919.8ms\n",
            "video 1/1 (166/361) /content/drive/MyDrive/video_and_annotation/video3.mp4: 736x1280 2 garbages, 1 person, 888.7ms\n",
            "video 1/1 (167/361) /content/drive/MyDrive/video_and_annotation/video3.mp4: 736x1280 2 garbages, 1 person, 902.5ms\n",
            "video 1/1 (168/361) /content/drive/MyDrive/video_and_annotation/video3.mp4: 736x1280 2 garbages, 2 persons, 925.6ms\n",
            "video 1/1 (169/361) /content/drive/MyDrive/video_and_annotation/video3.mp4: 736x1280 2 garbages, 1 person, 925.0ms\n",
            "video 1/1 (170/361) /content/drive/MyDrive/video_and_annotation/video3.mp4: 736x1280 2 garbages, 1 person, 902.7ms\n",
            "video 1/1 (171/361) /content/drive/MyDrive/video_and_annotation/video3.mp4: 736x1280 2 garbages, 931.0ms\n",
            "video 1/1 (172/361) /content/drive/MyDrive/video_and_annotation/video3.mp4: 736x1280 2 garbages, 919.9ms\n",
            "video 1/1 (173/361) /content/drive/MyDrive/video_and_annotation/video3.mp4: 736x1280 2 garbages, 1370.0ms\n",
            "video 1/1 (174/361) /content/drive/MyDrive/video_and_annotation/video3.mp4: 736x1280 2 garbages, 1939.3ms\n",
            "video 1/1 (175/361) /content/drive/MyDrive/video_and_annotation/video3.mp4: 736x1280 2 garbages, 1444.6ms\n",
            "video 1/1 (176/361) /content/drive/MyDrive/video_and_annotation/video3.mp4: 736x1280 2 garbages, 1113.7ms\n",
            "video 1/1 (177/361) /content/drive/MyDrive/video_and_annotation/video3.mp4: 736x1280 2 garbages, 920.5ms\n",
            "video 1/1 (178/361) /content/drive/MyDrive/video_and_annotation/video3.mp4: 736x1280 2 garbages, 945.3ms\n",
            "video 1/1 (179/361) /content/drive/MyDrive/video_and_annotation/video3.mp4: 736x1280 2 garbages, 909.7ms\n",
            "video 1/1 (180/361) /content/drive/MyDrive/video_and_annotation/video3.mp4: 736x1280 2 garbages, 883.0ms\n",
            "video 1/1 (181/361) /content/drive/MyDrive/video_and_annotation/video3.mp4: 736x1280 2 garbages, 922.2ms\n",
            "video 1/1 (182/361) /content/drive/MyDrive/video_and_annotation/video3.mp4: 736x1280 2 garbages, 908.5ms\n",
            "video 1/1 (183/361) /content/drive/MyDrive/video_and_annotation/video3.mp4: 736x1280 2 garbages, 951.7ms\n",
            "video 1/1 (184/361) /content/drive/MyDrive/video_and_annotation/video3.mp4: 736x1280 2 garbages, 904.5ms\n",
            "video 1/1 (185/361) /content/drive/MyDrive/video_and_annotation/video3.mp4: 736x1280 2 garbages, 910.9ms\n",
            "video 1/1 (186/361) /content/drive/MyDrive/video_and_annotation/video3.mp4: 736x1280 2 garbages, 959.9ms\n",
            "video 1/1 (187/361) /content/drive/MyDrive/video_and_annotation/video3.mp4: 736x1280 2 garbages, 1445.5ms\n",
            "video 1/1 (188/361) /content/drive/MyDrive/video_and_annotation/video3.mp4: 736x1280 2 garbages, 1409.7ms\n",
            "video 1/1 (189/361) /content/drive/MyDrive/video_and_annotation/video3.mp4: 736x1280 2 garbages, 1406.5ms\n",
            "video 1/1 (190/361) /content/drive/MyDrive/video_and_annotation/video3.mp4: 736x1280 2 garbages, 1730.7ms\n",
            "video 1/1 (191/361) /content/drive/MyDrive/video_and_annotation/video3.mp4: 736x1280 2 garbages, 1019.7ms\n",
            "video 1/1 (192/361) /content/drive/MyDrive/video_and_annotation/video3.mp4: 736x1280 2 garbages, 923.9ms\n",
            "video 1/1 (193/361) /content/drive/MyDrive/video_and_annotation/video3.mp4: 736x1280 2 garbages, 894.7ms\n",
            "video 1/1 (194/361) /content/drive/MyDrive/video_and_annotation/video3.mp4: 736x1280 2 garbages, 917.3ms\n",
            "video 1/1 (195/361) /content/drive/MyDrive/video_and_annotation/video3.mp4: 736x1280 2 garbages, 922.7ms\n",
            "video 1/1 (196/361) /content/drive/MyDrive/video_and_annotation/video3.mp4: 736x1280 2 garbages, 898.1ms\n",
            "video 1/1 (197/361) /content/drive/MyDrive/video_and_annotation/video3.mp4: 736x1280 2 garbages, 905.8ms\n",
            "video 1/1 (198/361) /content/drive/MyDrive/video_and_annotation/video3.mp4: 736x1280 2 garbages, 914.2ms\n",
            "video 1/1 (199/361) /content/drive/MyDrive/video_and_annotation/video3.mp4: 736x1280 2 garbages, 1258.4ms\n",
            "video 1/1 (200/361) /content/drive/MyDrive/video_and_annotation/video3.mp4: 736x1280 2 garbages, 1553.2ms\n",
            "video 1/1 (201/361) /content/drive/MyDrive/video_and_annotation/video3.mp4: 736x1280 2 garbages, 1420.1ms\n",
            "video 1/1 (202/361) /content/drive/MyDrive/video_and_annotation/video3.mp4: 736x1280 2 garbages, 1724.4ms\n",
            "video 1/1 (203/361) /content/drive/MyDrive/video_and_annotation/video3.mp4: 736x1280 2 garbages, 2194.2ms\n",
            "video 1/1 (204/361) /content/drive/MyDrive/video_and_annotation/video3.mp4: 736x1280 2 garbages, 1602.6ms\n",
            "video 1/1 (205/361) /content/drive/MyDrive/video_and_annotation/video3.mp4: 736x1280 2 garbages, 1573.2ms\n",
            "video 1/1 (206/361) /content/drive/MyDrive/video_and_annotation/video3.mp4: 736x1280 2 garbages, 1079.1ms\n",
            "video 1/1 (207/361) /content/drive/MyDrive/video_and_annotation/video3.mp4: 736x1280 2 garbages, 915.4ms\n",
            "video 1/1 (208/361) /content/drive/MyDrive/video_and_annotation/video3.mp4: 736x1280 2 garbages, 913.6ms\n",
            "video 1/1 (209/361) /content/drive/MyDrive/video_and_annotation/video3.mp4: 736x1280 2 garbages, 907.8ms\n",
            "video 1/1 (210/361) /content/drive/MyDrive/video_and_annotation/video3.mp4: 736x1280 2 garbages, 909.3ms\n",
            "video 1/1 (211/361) /content/drive/MyDrive/video_and_annotation/video3.mp4: 736x1280 2 garbages, 933.3ms\n",
            "video 1/1 (212/361) /content/drive/MyDrive/video_and_annotation/video3.mp4: 736x1280 2 garbages, 901.2ms\n",
            "video 1/1 (213/361) /content/drive/MyDrive/video_and_annotation/video3.mp4: 736x1280 2 garbages, 895.5ms\n",
            "video 1/1 (214/361) /content/drive/MyDrive/video_and_annotation/video3.mp4: 736x1280 2 garbages, 901.9ms\n",
            "video 1/1 (215/361) /content/drive/MyDrive/video_and_annotation/video3.mp4: 736x1280 2 garbages, 2405.7ms\n",
            "video 1/1 (216/361) /content/drive/MyDrive/video_and_annotation/video3.mp4: 736x1280 2 garbages, 1523.4ms\n",
            "video 1/1 (217/361) /content/drive/MyDrive/video_and_annotation/video3.mp4: 736x1280 2 garbages, 1411.4ms\n",
            "video 1/1 (218/361) /content/drive/MyDrive/video_and_annotation/video3.mp4: 736x1280 2 garbages, 2264.6ms\n",
            "video 1/1 (219/361) /content/drive/MyDrive/video_and_annotation/video3.mp4: 736x1280 2 garbages, 1361.9ms\n",
            "video 1/1 (220/361) /content/drive/MyDrive/video_and_annotation/video3.mp4: 736x1280 2 garbages, 891.2ms\n",
            "video 1/1 (221/361) /content/drive/MyDrive/video_and_annotation/video3.mp4: 736x1280 2 garbages, 936.0ms\n",
            "video 1/1 (222/361) /content/drive/MyDrive/video_and_annotation/video3.mp4: 736x1280 2 garbages, 988.4ms\n",
            "video 1/1 (223/361) /content/drive/MyDrive/video_and_annotation/video3.mp4: 736x1280 2 garbages, 918.3ms\n",
            "video 1/1 (224/361) /content/drive/MyDrive/video_and_annotation/video3.mp4: 736x1280 2 garbages, 1222.2ms\n",
            "video 1/1 (225/361) /content/drive/MyDrive/video_and_annotation/video3.mp4: 736x1280 2 garbages, 1033.1ms\n",
            "video 1/1 (226/361) /content/drive/MyDrive/video_and_annotation/video3.mp4: 736x1280 2 garbages, 1144.3ms\n",
            "video 1/1 (227/361) /content/drive/MyDrive/video_and_annotation/video3.mp4: 736x1280 2 garbages, 1931.6ms\n",
            "video 1/1 (228/361) /content/drive/MyDrive/video_and_annotation/video3.mp4: 736x1280 2 garbages, 2784.9ms\n",
            "video 1/1 (229/361) /content/drive/MyDrive/video_and_annotation/video3.mp4: 736x1280 2 garbages, 1811.6ms\n",
            "video 1/1 (230/361) /content/drive/MyDrive/video_and_annotation/video3.mp4: 736x1280 2 garbages, 1197.4ms\n",
            "video 1/1 (231/361) /content/drive/MyDrive/video_and_annotation/video3.mp4: 736x1280 2 garbages, 1183.4ms\n",
            "video 1/1 (232/361) /content/drive/MyDrive/video_and_annotation/video3.mp4: 736x1280 2 garbages, 961.9ms\n",
            "video 1/1 (233/361) /content/drive/MyDrive/video_and_annotation/video3.mp4: 736x1280 3 garbages, 1051.8ms\n",
            "video 1/1 (234/361) /content/drive/MyDrive/video_and_annotation/video3.mp4: 736x1280 3 garbages, 1 person, 1054.6ms\n",
            "video 1/1 (235/361) /content/drive/MyDrive/video_and_annotation/video3.mp4: 736x1280 2 garbages, 2 persons, 1022.6ms\n",
            "video 1/1 (236/361) /content/drive/MyDrive/video_and_annotation/video3.mp4: 736x1280 3 garbages, 2 persons, 1076.2ms\n",
            "video 1/1 (237/361) /content/drive/MyDrive/video_and_annotation/video3.mp4: 736x1280 3 garbages, 2 persons, 1145.4ms\n",
            "video 1/1 (238/361) /content/drive/MyDrive/video_and_annotation/video3.mp4: 736x1280 2 garbages, 2 persons, 1209.3ms\n",
            "video 1/1 (239/361) /content/drive/MyDrive/video_and_annotation/video3.mp4: 736x1280 3 garbages, 2 persons, 1797.6ms\n",
            "video 1/1 (240/361) /content/drive/MyDrive/video_and_annotation/video3.mp4: 736x1280 2 garbages, 2 persons, 1721.9ms\n",
            "video 1/1 (241/361) /content/drive/MyDrive/video_and_annotation/video3.mp4: 736x1280 1 garbage, 2 persons, 2092.7ms\n",
            "video 1/1 (242/361) /content/drive/MyDrive/video_and_annotation/video3.mp4: 736x1280 1 garbage, 2 persons, 1224.2ms\n",
            "video 1/1 (243/361) /content/drive/MyDrive/video_and_annotation/video3.mp4: 736x1280 2 persons, 1362.2ms\n",
            "video 1/1 (244/361) /content/drive/MyDrive/video_and_annotation/video3.mp4: 736x1280 2 garbages, 2 persons, 1211.6ms\n",
            "video 1/1 (245/361) /content/drive/MyDrive/video_and_annotation/video3.mp4: 736x1280 2 garbages, 2 persons, 1254.5ms\n",
            "video 1/1 (246/361) /content/drive/MyDrive/video_and_annotation/video3.mp4: 736x1280 3 garbages, 2 persons, 922.8ms\n",
            "video 1/1 (247/361) /content/drive/MyDrive/video_and_annotation/video3.mp4: 736x1280 3 garbages, 1 person, 1128.5ms\n",
            "video 1/1 (248/361) /content/drive/MyDrive/video_and_annotation/video3.mp4: 736x1280 2 garbages, 978.8ms\n",
            "video 1/1 (249/361) /content/drive/MyDrive/video_and_annotation/video3.mp4: 736x1280 2 garbages, 1 person, 3232.6ms\n",
            "video 1/1 (250/361) /content/drive/MyDrive/video_and_annotation/video3.mp4: 736x1280 2 garbages, 1 person, 1464.3ms\n",
            "video 1/1 (251/361) /content/drive/MyDrive/video_and_annotation/video3.mp4: 736x1280 3 garbages, 2186.2ms\n",
            "video 1/1 (252/361) /content/drive/MyDrive/video_and_annotation/video3.mp4: 736x1280 3 garbages, 1 person, 1002.1ms\n",
            "video 1/1 (253/361) /content/drive/MyDrive/video_and_annotation/video3.mp4: 736x1280 3 garbages, 968.5ms\n",
            "video 1/1 (254/361) /content/drive/MyDrive/video_and_annotation/video3.mp4: 736x1280 3 garbages, 1 person, 912.7ms\n",
            "video 1/1 (255/361) /content/drive/MyDrive/video_and_annotation/video3.mp4: 736x1280 3 garbages, 1443.9ms\n",
            "video 1/1 (256/361) /content/drive/MyDrive/video_and_annotation/video3.mp4: 736x1280 3 garbages, 1524.5ms\n",
            "video 1/1 (257/361) /content/drive/MyDrive/video_and_annotation/video3.mp4: 736x1280 3 garbages, 1028.9ms\n",
            "video 1/1 (258/361) /content/drive/MyDrive/video_and_annotation/video3.mp4: 736x1280 3 garbages, 912.8ms\n",
            "video 1/1 (259/361) /content/drive/MyDrive/video_and_annotation/video3.mp4: 736x1280 3 garbages, 907.0ms\n",
            "video 1/1 (260/361) /content/drive/MyDrive/video_and_annotation/video3.mp4: 736x1280 2 garbages, 905.4ms\n",
            "video 1/1 (261/361) /content/drive/MyDrive/video_and_annotation/video3.mp4: 736x1280 2 garbages, 1383.3ms\n",
            "video 1/1 (262/361) /content/drive/MyDrive/video_and_annotation/video3.mp4: 736x1280 3 garbages, 1377.6ms\n",
            "video 1/1 (263/361) /content/drive/MyDrive/video_and_annotation/video3.mp4: 736x1280 3 garbages, 1381.8ms\n",
            "video 1/1 (264/361) /content/drive/MyDrive/video_and_annotation/video3.mp4: 736x1280 3 garbages, 1460.9ms\n",
            "video 1/1 (265/361) /content/drive/MyDrive/video_and_annotation/video3.mp4: 736x1280 3 garbages, 973.7ms\n",
            "video 1/1 (266/361) /content/drive/MyDrive/video_and_annotation/video3.mp4: 736x1280 2 garbages, 910.5ms\n",
            "video 1/1 (267/361) /content/drive/MyDrive/video_and_annotation/video3.mp4: 736x1280 2 garbages, 921.6ms\n",
            "video 1/1 (268/361) /content/drive/MyDrive/video_and_annotation/video3.mp4: 736x1280 2 garbages, 916.1ms\n",
            "video 1/1 (269/361) /content/drive/MyDrive/video_and_annotation/video3.mp4: 736x1280 2 garbages, 917.9ms\n",
            "video 1/1 (270/361) /content/drive/MyDrive/video_and_annotation/video3.mp4: 736x1280 2 garbages, 930.0ms\n",
            "video 1/1 (271/361) /content/drive/MyDrive/video_and_annotation/video3.mp4: 736x1280 2 garbages, 909.0ms\n",
            "video 1/1 (272/361) /content/drive/MyDrive/video_and_annotation/video3.mp4: 736x1280 2 garbages, 902.2ms\n",
            "video 1/1 (273/361) /content/drive/MyDrive/video_and_annotation/video3.mp4: 736x1280 2 garbages, 904.9ms\n",
            "video 1/1 (274/361) /content/drive/MyDrive/video_and_annotation/video3.mp4: 736x1280 2 garbages, 914.3ms\n",
            "video 1/1 (275/361) /content/drive/MyDrive/video_and_annotation/video3.mp4: 736x1280 2 garbages, 1222.9ms\n",
            "video 1/1 (276/361) /content/drive/MyDrive/video_and_annotation/video3.mp4: 736x1280 2 garbages, 1368.0ms\n",
            "video 1/1 (277/361) /content/drive/MyDrive/video_and_annotation/video3.mp4: 736x1280 2 garbages, 1434.2ms\n",
            "video 1/1 (278/361) /content/drive/MyDrive/video_and_annotation/video3.mp4: 736x1280 2 garbages, 1482.7ms\n",
            "video 1/1 (279/361) /content/drive/MyDrive/video_and_annotation/video3.mp4: 736x1280 2 garbages, 1217.0ms\n",
            "video 1/1 (280/361) /content/drive/MyDrive/video_and_annotation/video3.mp4: 736x1280 2 garbages, 958.8ms\n",
            "video 1/1 (281/361) /content/drive/MyDrive/video_and_annotation/video3.mp4: 736x1280 2 garbages, 1126.7ms\n",
            "video 1/1 (282/361) /content/drive/MyDrive/video_and_annotation/video3.mp4: 736x1280 2 garbages, 937.2ms\n",
            "video 1/1 (283/361) /content/drive/MyDrive/video_and_annotation/video3.mp4: 736x1280 2 garbages, 924.4ms\n",
            "video 1/1 (284/361) /content/drive/MyDrive/video_and_annotation/video3.mp4: 736x1280 2 garbages, 901.7ms\n",
            "video 1/1 (285/361) /content/drive/MyDrive/video_and_annotation/video3.mp4: 736x1280 2 garbages, 904.2ms\n",
            "video 1/1 (286/361) /content/drive/MyDrive/video_and_annotation/video3.mp4: 736x1280 2 garbages, 915.8ms\n",
            "video 1/1 (287/361) /content/drive/MyDrive/video_and_annotation/video3.mp4: 736x1280 2 garbages, 919.8ms\n",
            "video 1/1 (288/361) /content/drive/MyDrive/video_and_annotation/video3.mp4: 736x1280 2 garbages, 951.7ms\n",
            "video 1/1 (289/361) /content/drive/MyDrive/video_and_annotation/video3.mp4: 736x1280 2 garbages, 1 person, 1070.3ms\n",
            "video 1/1 (290/361) /content/drive/MyDrive/video_and_annotation/video3.mp4: 736x1280 3 garbages, 1 person, 1391.2ms\n",
            "video 1/1 (291/361) /content/drive/MyDrive/video_and_annotation/video3.mp4: 736x1280 3 garbages, 1 person, 1379.3ms\n",
            "video 1/1 (292/361) /content/drive/MyDrive/video_and_annotation/video3.mp4: 736x1280 3 garbages, 1 person, 1502.8ms\n",
            "video 1/1 (293/361) /content/drive/MyDrive/video_and_annotation/video3.mp4: 736x1280 4 garbages, 1 person, 1194.8ms\n",
            "video 1/1 (294/361) /content/drive/MyDrive/video_and_annotation/video3.mp4: 736x1280 3 garbages, 2 persons, 911.5ms\n",
            "video 1/1 (295/361) /content/drive/MyDrive/video_and_annotation/video3.mp4: 736x1280 3 garbages, 2 persons, 921.3ms\n",
            "video 1/1 (296/361) /content/drive/MyDrive/video_and_annotation/video3.mp4: 736x1280 3 garbages, 906.3ms\n",
            "video 1/1 (297/361) /content/drive/MyDrive/video_and_annotation/video3.mp4: 736x1280 3 garbages, 2 persons, 918.1ms\n",
            "video 1/1 (298/361) /content/drive/MyDrive/video_and_annotation/video3.mp4: 736x1280 4 garbages, 1 person, 894.1ms\n",
            "video 1/1 (299/361) /content/drive/MyDrive/video_and_annotation/video3.mp4: 736x1280 2 garbages, 2 persons, 888.1ms\n",
            "video 1/1 (300/361) /content/drive/MyDrive/video_and_annotation/video3.mp4: 736x1280 1 person, 902.8ms\n",
            "video 1/1 (301/361) /content/drive/MyDrive/video_and_annotation/video3.mp4: 736x1280 2 garbages, 2 persons, 1139.8ms\n",
            "video 1/1 (302/361) /content/drive/MyDrive/video_and_annotation/video3.mp4: 736x1280 (no detections), 1355.6ms\n",
            "video 1/1 (303/361) /content/drive/MyDrive/video_and_annotation/video3.mp4: 736x1280 1 garbage, 1 person, 1508.5ms\n",
            "video 1/1 (304/361) /content/drive/MyDrive/video_and_annotation/video3.mp4: 736x1280 3 garbages, 1571.4ms\n",
            "video 1/1 (305/361) /content/drive/MyDrive/video_and_annotation/video3.mp4: 736x1280 3 garbages, 1523.9ms\n",
            "video 1/1 (306/361) /content/drive/MyDrive/video_and_annotation/video3.mp4: 736x1280 3 garbages, 1506.9ms\n",
            "video 1/1 (307/361) /content/drive/MyDrive/video_and_annotation/video3.mp4: 736x1280 3 garbages, 1533.0ms\n",
            "video 1/1 (308/361) /content/drive/MyDrive/video_and_annotation/video3.mp4: 736x1280 3 garbages, 1490.7ms\n",
            "video 1/1 (309/361) /content/drive/MyDrive/video_and_annotation/video3.mp4: 736x1280 3 garbages, 920.9ms\n",
            "video 1/1 (310/361) /content/drive/MyDrive/video_and_annotation/video3.mp4: 736x1280 3 garbages, 1168.5ms\n",
            "video 1/1 (311/361) /content/drive/MyDrive/video_and_annotation/video3.mp4: 736x1280 3 garbages, 889.5ms\n",
            "video 1/1 (312/361) /content/drive/MyDrive/video_and_annotation/video3.mp4: 736x1280 3 garbages, 905.7ms\n",
            "video 1/1 (313/361) /content/drive/MyDrive/video_and_annotation/video3.mp4: 736x1280 3 garbages, 910.0ms\n",
            "video 1/1 (314/361) /content/drive/MyDrive/video_and_annotation/video3.mp4: 736x1280 3 garbages, 1154.5ms\n",
            "video 1/1 (315/361) /content/drive/MyDrive/video_and_annotation/video3.mp4: 736x1280 3 garbages, 913.4ms\n",
            "video 1/1 (316/361) /content/drive/MyDrive/video_and_annotation/video3.mp4: 736x1280 3 garbages, 929.1ms\n",
            "video 1/1 (317/361) /content/drive/MyDrive/video_and_annotation/video3.mp4: 736x1280 3 garbages, 933.7ms\n",
            "video 1/1 (318/361) /content/drive/MyDrive/video_and_annotation/video3.mp4: 736x1280 3 garbages, 1015.7ms\n",
            "video 1/1 (319/361) /content/drive/MyDrive/video_and_annotation/video3.mp4: 736x1280 3 garbages, 1413.2ms\n",
            "video 1/1 (320/361) /content/drive/MyDrive/video_and_annotation/video3.mp4: 736x1280 3 garbages, 1370.5ms\n",
            "video 1/1 (321/361) /content/drive/MyDrive/video_and_annotation/video3.mp4: 736x1280 3 garbages, 1445.5ms\n",
            "video 1/1 (322/361) /content/drive/MyDrive/video_and_annotation/video3.mp4: 736x1280 3 garbages, 1345.1ms\n",
            "video 1/1 (323/361) /content/drive/MyDrive/video_and_annotation/video3.mp4: 736x1280 3 garbages, 904.2ms\n",
            "video 1/1 (324/361) /content/drive/MyDrive/video_and_annotation/video3.mp4: 736x1280 3 garbages, 909.1ms\n",
            "video 1/1 (325/361) /content/drive/MyDrive/video_and_annotation/video3.mp4: 736x1280 3 garbages, 970.6ms\n",
            "video 1/1 (326/361) /content/drive/MyDrive/video_and_annotation/video3.mp4: 736x1280 3 garbages, 911.3ms\n",
            "video 1/1 (327/361) /content/drive/MyDrive/video_and_annotation/video3.mp4: 736x1280 3 garbages, 926.5ms\n",
            "video 1/1 (328/361) /content/drive/MyDrive/video_and_annotation/video3.mp4: 736x1280 3 garbages, 921.8ms\n",
            "video 1/1 (329/361) /content/drive/MyDrive/video_and_annotation/video3.mp4: 736x1280 3 garbages, 914.1ms\n",
            "video 1/1 (330/361) /content/drive/MyDrive/video_and_annotation/video3.mp4: 736x1280 3 garbages, 1206.8ms\n",
            "video 1/1 (331/361) /content/drive/MyDrive/video_and_annotation/video3.mp4: 736x1280 3 garbages, 961.1ms\n",
            "video 1/1 (332/361) /content/drive/MyDrive/video_and_annotation/video3.mp4: 736x1280 3 garbages, 972.9ms\n",
            "video 1/1 (333/361) /content/drive/MyDrive/video_and_annotation/video3.mp4: 736x1280 3 garbages, 1379.2ms\n",
            "video 1/1 (334/361) /content/drive/MyDrive/video_and_annotation/video3.mp4: 736x1280 3 garbages, 1436.9ms\n",
            "video 1/1 (335/361) /content/drive/MyDrive/video_and_annotation/video3.mp4: 736x1280 3 garbages, 1412.4ms\n",
            "video 1/1 (336/361) /content/drive/MyDrive/video_and_annotation/video3.mp4: 736x1280 3 garbages, 1305.4ms\n",
            "video 1/1 (337/361) /content/drive/MyDrive/video_and_annotation/video3.mp4: 736x1280 3 garbages, 918.2ms\n",
            "video 1/1 (338/361) /content/drive/MyDrive/video_and_annotation/video3.mp4: 736x1280 3 garbages, 908.1ms\n",
            "video 1/1 (339/361) /content/drive/MyDrive/video_and_annotation/video3.mp4: 736x1280 3 garbages, 929.3ms\n",
            "video 1/1 (340/361) /content/drive/MyDrive/video_and_annotation/video3.mp4: 736x1280 3 garbages, 1779.9ms\n",
            "video 1/1 (341/361) /content/drive/MyDrive/video_and_annotation/video3.mp4: 736x1280 3 garbages, 907.3ms\n",
            "video 1/1 (342/361) /content/drive/MyDrive/video_and_annotation/video3.mp4: 736x1280 3 garbages, 929.0ms\n",
            "video 1/1 (343/361) /content/drive/MyDrive/video_and_annotation/video3.mp4: 736x1280 3 garbages, 909.8ms\n",
            "video 1/1 (344/361) /content/drive/MyDrive/video_and_annotation/video3.mp4: 736x1280 3 garbages, 898.2ms\n",
            "video 1/1 (345/361) /content/drive/MyDrive/video_and_annotation/video3.mp4: 736x1280 3 garbages, 920.4ms\n",
            "video 1/1 (346/361) /content/drive/MyDrive/video_and_annotation/video3.mp4: 736x1280 3 garbages, 1302.4ms\n",
            "video 1/1 (347/361) /content/drive/MyDrive/video_and_annotation/video3.mp4: 736x1280 3 garbages, 1395.5ms\n",
            "video 1/1 (348/361) /content/drive/MyDrive/video_and_annotation/video3.mp4: 736x1280 3 garbages, 1413.2ms\n",
            "video 1/1 (349/361) /content/drive/MyDrive/video_and_annotation/video3.mp4: 736x1280 3 garbages, 1491.5ms\n",
            "video 1/1 (350/361) /content/drive/MyDrive/video_and_annotation/video3.mp4: 736x1280 3 garbages, 1036.8ms\n",
            "video 1/1 (351/361) /content/drive/MyDrive/video_and_annotation/video3.mp4: 736x1280 3 garbages, 988.2ms\n",
            "video 1/1 (352/361) /content/drive/MyDrive/video_and_annotation/video3.mp4: 736x1280 3 garbages, 941.5ms\n",
            "video 1/1 (353/361) /content/drive/MyDrive/video_and_annotation/video3.mp4: 736x1280 3 garbages, 908.5ms\n",
            "video 1/1 (354/361) /content/drive/MyDrive/video_and_annotation/video3.mp4: 736x1280 3 garbages, 910.5ms\n",
            "video 1/1 (355/361) /content/drive/MyDrive/video_and_annotation/video3.mp4: 736x1280 3 garbages, 924.5ms\n",
            "video 1/1 (356/361) /content/drive/MyDrive/video_and_annotation/video3.mp4: 736x1280 3 garbages, 909.3ms\n",
            "video 1/1 (357/361) /content/drive/MyDrive/video_and_annotation/video3.mp4: 736x1280 3 garbages, 944.2ms\n",
            "video 1/1 (358/361) /content/drive/MyDrive/video_and_annotation/video3.mp4: 736x1280 3 garbages, 920.7ms\n",
            "video 1/1 (359/361) /content/drive/MyDrive/video_and_annotation/video3.mp4: 736x1280 3 garbages, 908.6ms\n",
            "video 1/1 (360/361) /content/drive/MyDrive/video_and_annotation/video3.mp4: 736x1280 3 garbages, 1245.5ms\n",
            "video 1/1 (361/361) /content/drive/MyDrive/video_and_annotation/video3.mp4: 736x1280 3 garbages, 1436.4ms\n",
            "Speed: 3.9ms pre-process, 1143.5ms inference, 1.2ms NMS per image at shape (1, 3, 1280, 1280)\n",
            "Results saved to \u001b[1mruns/detect/exp4\u001b[0m\n",
            "CPU times: user 4.53 s, sys: 567 ms, total: 5.1 s\n",
            "Wall time: 7min 25s\n"
          ]
        }
      ]
    },
    {
      "cell_type": "markdown",
      "source": [
        "## 쓰레기 무단 투기 감지 코드\n"
      ],
      "metadata": {
        "id": "bHFAkU3mY_xr"
      }
    },
    {
      "cell_type": "markdown",
      "source": [
        "1. yolo v5, yolov8 돌려서 프레임별 txt 뽑기>> #프레임구별, 좌표추출"
      ],
      "metadata": {
        "id": "El7LaQPc7csg"
      }
    },
    {
      "cell_type": "code",
      "source": [
        "#프레임 구별, 좌표추출 - yolov5\n",
        "\n",
        "import subprocess\n",
        "import csv\n",
        "import os\n",
        "from pathlib import Path\n",
        "import cv2\n",
        "\n",
        "def run_yolov5_detection(weights, source, img_size=1280, conf_thres=0.4, project='runs/detect', name='exp'):\n",
        "    # Run the detect.py script with the given parameters\n",
        "    command = [\n",
        "        'python', 'detect.py',\n",
        "        '--weights', weights,\n",
        "        '--img', str(img_size),\n",
        "        '--conf', str(conf_thres),\n",
        "        '--source', source,\n",
        "        '--save-txt',  # 플래그 옵션\n",
        "        '--save-conf',\n",
        "        '--project', project,\n",
        "        '--name', name\n",
        "    ]\n",
        "    try:\n",
        "        result = subprocess.run(command, check=True, capture_output=True, text=True) # 원본영상 detection\n",
        "        print(result.stdout)\n",
        "        print(result.stderr)\n",
        "    except subprocess.CalledProcessError as e:\n",
        "        print(f\"Error: {e}\")\n",
        "        print(f\"stdout: {e.stdout}\")\n",
        "        print(f\"stderr: {e.stderr}\")\n",
        "\n",
        "def parse_yolov5_results(output_dir, video_path, output_csv_path):\n",
        "    # Parse the YOLOv5 detection results from the output directory and extract frames\n",
        "    labels_dir = Path(output_dir) / 'labels'\n",
        "    if not labels_dir.exists():\n",
        "        print(f\"No labels directory found at {labels_dir}\")\n",
        "        return\n",
        "\n",
        "    # Open the video file\n",
        "    cap = cv2.VideoCapture(video_path)\n",
        "\n",
        "    # Open the CSV file for writing\n",
        "    with open(output_csv_path, 'w', newline='') as csvfile:\n",
        "        csvwriter = csv.writer(csvfile)\n",
        "        csvwriter.writerow(['Image Name', 'Class ID', 'Bounding Box', 'Confidence'])\n",
        "\n",
        "        for label_file in labels_dir.glob('*.txt'):\n",
        "            image_name = label_file.stem\n",
        "            try:\n",
        "                frame_number = int(image_name.split('_')[-1])  # 파일명에서 마지막 부분을 프레임 번호로 추출\n",
        "            except ValueError:\n",
        "                print(f\"Skipping file with invalid frame number: {image_name}\")\n",
        "                continue\n",
        "\n",
        "            with open(label_file, 'r') as f:\n",
        "                for line in f:\n",
        "                    parts = line.strip().split()\n",
        "                    if len(parts) < 5:\n",
        "                        continue\n",
        "                    class_id = int(parts[0])\n",
        "                    bbox = list(map(float, parts[1:5]))\n",
        "                    conf = float(parts[5]) if len(parts) > 5 else None\n",
        "                    bbox_str = ','.join(map(str, bbox))\n",
        "\n",
        "                    # Write to CSV\n",
        "                    csvwriter.writerow([image_name, class_id, bbox_str, conf])\n",
        "\n",
        "                    # Frame extraction\n",
        "                    cap.set(cv2.CAP_PROP_POS_FRAMES, frame_number)\n",
        "                    ret, frame = cap.read()\n",
        "                    if not ret:\n",
        "                        # print(f\"Failed to extract frame {frame_number}\")\n",
        "                        continue\n",
        "\n",
        "                    # Draw bounding box on the frame\n",
        "                    x_center, y_center, width, height = bbox\n",
        "                    img_h, img_w = frame.shape[:2]\n",
        "                    x1 = int((x_center - width / 2) * img_w)\n",
        "                    y1 = int((y_center - height / 2) * img_h)\n",
        "                    x2 = int((x_center + width / 2) * img_w)\n",
        "                    y2 = int((y_center + height / 2) * img_h)\n",
        "                    cv2.rectangle(frame, (x1, y1), (x2, y2), (0, 255, 0), 2)\n",
        "\n",
        "                    # Save the frame with the bounding box\n",
        "                    output_frame_path = Path(output_dir) / 'frames' / f'{image_name}.jpg'\n",
        "                    output_frame_path.parent.mkdir(parents=True, exist_ok=True)\n",
        "                    cv2.imwrite(str(output_frame_path), frame)\n",
        "\n",
        "    # Release the video capture\n",
        "    cap.release()\n",
        "    print(f\"Results saved to {output_csv_path}\")\n",
        "\n",
        "if __name__ == \"__main__\":\n",
        "    weights_path = '/content/drive/MyDrive/best1.pt'\n",
        "    source_path = '/content/drive/MyDrive/test_video_sample/modelingjun.mp4'\n",
        "    output_project = '/content/drive/MyDrive/minju_sample/models'\n",
        "    output_name = 'exp'\n",
        "    output_csv_path = '/content/drive/MyDrive/minju_sample/detection_results.csv'\n",
        "\n",
        "    # Run YOLOv5 detection\n",
        "    run_yolov5_detection(weights=weights_path, source=source_path, project=output_project, name=output_name)\n",
        "\n",
        "    # Parse the results and save to CSV\n",
        "    output_dir = Path(output_project) / (output_name)\n",
        "    parse_yolov5_results(output_dir, source_path, output_csv_path)\n",
        "\n"
      ],
      "metadata": {
        "colab": {
          "base_uri": "https://localhost:8080/",
          "height": 373
        },
        "collapsed": true,
        "id": "QIVW90Pzyk1h",
        "outputId": "7a62a237-e555-4e7a-aea1-4d30fcc38ef5"
      },
      "execution_count": null,
      "outputs": [
        {
          "output_type": "error",
          "ename": "KeyboardInterrupt",
          "evalue": "",
          "traceback": [
            "\u001b[0;31m---------------------------------------------------------------------------\u001b[0m",
            "\u001b[0;31mKeyboardInterrupt\u001b[0m                         Traceback (most recent call last)",
            "\u001b[0;32m<ipython-input-12-1c76c86f88e2>\u001b[0m in \u001b[0;36m<cell line: 92>\u001b[0;34m()\u001b[0m\n\u001b[1;32m     98\u001b[0m \u001b[0;34m\u001b[0m\u001b[0m\n\u001b[1;32m     99\u001b[0m     \u001b[0;31m# Run YOLOv5 detection\u001b[0m\u001b[0;34m\u001b[0m\u001b[0;34m\u001b[0m\u001b[0m\n\u001b[0;32m--> 100\u001b[0;31m     \u001b[0mrun_yolov5_detection\u001b[0m\u001b[0;34m(\u001b[0m\u001b[0mweights\u001b[0m\u001b[0;34m=\u001b[0m\u001b[0mweights_path\u001b[0m\u001b[0;34m,\u001b[0m \u001b[0msource\u001b[0m\u001b[0;34m=\u001b[0m\u001b[0msource_path\u001b[0m\u001b[0;34m,\u001b[0m \u001b[0mproject\u001b[0m\u001b[0;34m=\u001b[0m\u001b[0moutput_project\u001b[0m\u001b[0;34m,\u001b[0m \u001b[0mname\u001b[0m\u001b[0;34m=\u001b[0m\u001b[0moutput_name\u001b[0m\u001b[0;34m)\u001b[0m\u001b[0;34m\u001b[0m\u001b[0;34m\u001b[0m\u001b[0m\n\u001b[0m\u001b[1;32m    101\u001b[0m \u001b[0;34m\u001b[0m\u001b[0m\n\u001b[1;32m    102\u001b[0m     \u001b[0;31m# Parse the results and save to CSV\u001b[0m\u001b[0;34m\u001b[0m\u001b[0;34m\u001b[0m\u001b[0m\n",
            "\u001b[0;32m<ipython-input-12-1c76c86f88e2>\u001b[0m in \u001b[0;36mrun_yolov5_detection\u001b[0;34m(weights, source, img_size, conf_thres, project, name)\u001b[0m\n\u001b[1;32m     21\u001b[0m     ]\n\u001b[1;32m     22\u001b[0m     \u001b[0;32mtry\u001b[0m\u001b[0;34m:\u001b[0m\u001b[0;34m\u001b[0m\u001b[0;34m\u001b[0m\u001b[0m\n\u001b[0;32m---> 23\u001b[0;31m         \u001b[0mresult\u001b[0m \u001b[0;34m=\u001b[0m \u001b[0msubprocess\u001b[0m\u001b[0;34m.\u001b[0m\u001b[0mrun\u001b[0m\u001b[0;34m(\u001b[0m\u001b[0mcommand\u001b[0m\u001b[0;34m,\u001b[0m \u001b[0mcheck\u001b[0m\u001b[0;34m=\u001b[0m\u001b[0;32mTrue\u001b[0m\u001b[0;34m,\u001b[0m \u001b[0mcapture_output\u001b[0m\u001b[0;34m=\u001b[0m\u001b[0;32mTrue\u001b[0m\u001b[0;34m,\u001b[0m \u001b[0mtext\u001b[0m\u001b[0;34m=\u001b[0m\u001b[0;32mTrue\u001b[0m\u001b[0;34m)\u001b[0m \u001b[0;31m# 원본영상 detection\u001b[0m\u001b[0;34m\u001b[0m\u001b[0;34m\u001b[0m\u001b[0m\n\u001b[0m\u001b[1;32m     24\u001b[0m         \u001b[0mprint\u001b[0m\u001b[0;34m(\u001b[0m\u001b[0mresult\u001b[0m\u001b[0;34m.\u001b[0m\u001b[0mstdout\u001b[0m\u001b[0;34m)\u001b[0m\u001b[0;34m\u001b[0m\u001b[0;34m\u001b[0m\u001b[0m\n\u001b[1;32m     25\u001b[0m         \u001b[0mprint\u001b[0m\u001b[0;34m(\u001b[0m\u001b[0mresult\u001b[0m\u001b[0;34m.\u001b[0m\u001b[0mstderr\u001b[0m\u001b[0;34m)\u001b[0m\u001b[0;34m\u001b[0m\u001b[0;34m\u001b[0m\u001b[0m\n",
            "\u001b[0;32m/usr/lib/python3.10/subprocess.py\u001b[0m in \u001b[0;36mrun\u001b[0;34m(input, capture_output, timeout, check, *popenargs, **kwargs)\u001b[0m\n\u001b[1;32m    503\u001b[0m     \u001b[0;32mwith\u001b[0m \u001b[0mPopen\u001b[0m\u001b[0;34m(\u001b[0m\u001b[0;34m*\u001b[0m\u001b[0mpopenargs\u001b[0m\u001b[0;34m,\u001b[0m \u001b[0;34m**\u001b[0m\u001b[0mkwargs\u001b[0m\u001b[0;34m)\u001b[0m \u001b[0;32mas\u001b[0m \u001b[0mprocess\u001b[0m\u001b[0;34m:\u001b[0m\u001b[0;34m\u001b[0m\u001b[0;34m\u001b[0m\u001b[0m\n\u001b[1;32m    504\u001b[0m         \u001b[0;32mtry\u001b[0m\u001b[0;34m:\u001b[0m\u001b[0;34m\u001b[0m\u001b[0;34m\u001b[0m\u001b[0m\n\u001b[0;32m--> 505\u001b[0;31m             \u001b[0mstdout\u001b[0m\u001b[0;34m,\u001b[0m \u001b[0mstderr\u001b[0m \u001b[0;34m=\u001b[0m \u001b[0mprocess\u001b[0m\u001b[0;34m.\u001b[0m\u001b[0mcommunicate\u001b[0m\u001b[0;34m(\u001b[0m\u001b[0minput\u001b[0m\u001b[0;34m,\u001b[0m \u001b[0mtimeout\u001b[0m\u001b[0;34m=\u001b[0m\u001b[0mtimeout\u001b[0m\u001b[0;34m)\u001b[0m\u001b[0;34m\u001b[0m\u001b[0;34m\u001b[0m\u001b[0m\n\u001b[0m\u001b[1;32m    506\u001b[0m         \u001b[0;32mexcept\u001b[0m \u001b[0mTimeoutExpired\u001b[0m \u001b[0;32mas\u001b[0m \u001b[0mexc\u001b[0m\u001b[0;34m:\u001b[0m\u001b[0;34m\u001b[0m\u001b[0;34m\u001b[0m\u001b[0m\n\u001b[1;32m    507\u001b[0m             \u001b[0mprocess\u001b[0m\u001b[0;34m.\u001b[0m\u001b[0mkill\u001b[0m\u001b[0;34m(\u001b[0m\u001b[0;34m)\u001b[0m\u001b[0;34m\u001b[0m\u001b[0;34m\u001b[0m\u001b[0m\n",
            "\u001b[0;32m/usr/lib/python3.10/subprocess.py\u001b[0m in \u001b[0;36mcommunicate\u001b[0;34m(self, input, timeout)\u001b[0m\n\u001b[1;32m   1152\u001b[0m \u001b[0;34m\u001b[0m\u001b[0m\n\u001b[1;32m   1153\u001b[0m             \u001b[0;32mtry\u001b[0m\u001b[0;34m:\u001b[0m\u001b[0;34m\u001b[0m\u001b[0;34m\u001b[0m\u001b[0m\n\u001b[0;32m-> 1154\u001b[0;31m                 \u001b[0mstdout\u001b[0m\u001b[0;34m,\u001b[0m \u001b[0mstderr\u001b[0m \u001b[0;34m=\u001b[0m \u001b[0mself\u001b[0m\u001b[0;34m.\u001b[0m\u001b[0m_communicate\u001b[0m\u001b[0;34m(\u001b[0m\u001b[0minput\u001b[0m\u001b[0;34m,\u001b[0m \u001b[0mendtime\u001b[0m\u001b[0;34m,\u001b[0m \u001b[0mtimeout\u001b[0m\u001b[0;34m)\u001b[0m\u001b[0;34m\u001b[0m\u001b[0;34m\u001b[0m\u001b[0m\n\u001b[0m\u001b[1;32m   1155\u001b[0m             \u001b[0;32mexcept\u001b[0m \u001b[0mKeyboardInterrupt\u001b[0m\u001b[0;34m:\u001b[0m\u001b[0;34m\u001b[0m\u001b[0;34m\u001b[0m\u001b[0m\n\u001b[1;32m   1156\u001b[0m                 \u001b[0;31m# https://bugs.python.org/issue25942\u001b[0m\u001b[0;34m\u001b[0m\u001b[0;34m\u001b[0m\u001b[0m\n",
            "\u001b[0;32m/usr/lib/python3.10/subprocess.py\u001b[0m in \u001b[0;36m_communicate\u001b[0;34m(self, input, endtime, orig_timeout)\u001b[0m\n\u001b[1;32m   2019\u001b[0m                             'failed to raise TimeoutExpired.')\n\u001b[1;32m   2020\u001b[0m \u001b[0;34m\u001b[0m\u001b[0m\n\u001b[0;32m-> 2021\u001b[0;31m                     \u001b[0mready\u001b[0m \u001b[0;34m=\u001b[0m \u001b[0mselector\u001b[0m\u001b[0;34m.\u001b[0m\u001b[0mselect\u001b[0m\u001b[0;34m(\u001b[0m\u001b[0mtimeout\u001b[0m\u001b[0;34m)\u001b[0m\u001b[0;34m\u001b[0m\u001b[0;34m\u001b[0m\u001b[0m\n\u001b[0m\u001b[1;32m   2022\u001b[0m                     \u001b[0mself\u001b[0m\u001b[0;34m.\u001b[0m\u001b[0m_check_timeout\u001b[0m\u001b[0;34m(\u001b[0m\u001b[0mendtime\u001b[0m\u001b[0;34m,\u001b[0m \u001b[0morig_timeout\u001b[0m\u001b[0;34m,\u001b[0m \u001b[0mstdout\u001b[0m\u001b[0;34m,\u001b[0m \u001b[0mstderr\u001b[0m\u001b[0;34m)\u001b[0m\u001b[0;34m\u001b[0m\u001b[0;34m\u001b[0m\u001b[0m\n\u001b[1;32m   2023\u001b[0m \u001b[0;34m\u001b[0m\u001b[0m\n",
            "\u001b[0;32m/usr/lib/python3.10/selectors.py\u001b[0m in \u001b[0;36mselect\u001b[0;34m(self, timeout)\u001b[0m\n\u001b[1;32m    414\u001b[0m         \u001b[0mready\u001b[0m \u001b[0;34m=\u001b[0m \u001b[0;34m[\u001b[0m\u001b[0;34m]\u001b[0m\u001b[0;34m\u001b[0m\u001b[0;34m\u001b[0m\u001b[0m\n\u001b[1;32m    415\u001b[0m         \u001b[0;32mtry\u001b[0m\u001b[0;34m:\u001b[0m\u001b[0;34m\u001b[0m\u001b[0;34m\u001b[0m\u001b[0m\n\u001b[0;32m--> 416\u001b[0;31m             \u001b[0mfd_event_list\u001b[0m \u001b[0;34m=\u001b[0m \u001b[0mself\u001b[0m\u001b[0;34m.\u001b[0m\u001b[0m_selector\u001b[0m\u001b[0;34m.\u001b[0m\u001b[0mpoll\u001b[0m\u001b[0;34m(\u001b[0m\u001b[0mtimeout\u001b[0m\u001b[0;34m)\u001b[0m\u001b[0;34m\u001b[0m\u001b[0;34m\u001b[0m\u001b[0m\n\u001b[0m\u001b[1;32m    417\u001b[0m         \u001b[0;32mexcept\u001b[0m \u001b[0mInterruptedError\u001b[0m\u001b[0;34m:\u001b[0m\u001b[0;34m\u001b[0m\u001b[0;34m\u001b[0m\u001b[0m\n\u001b[1;32m    418\u001b[0m             \u001b[0;32mreturn\u001b[0m \u001b[0mready\u001b[0m\u001b[0;34m\u001b[0m\u001b[0;34m\u001b[0m\u001b[0m\n",
            "\u001b[0;31mKeyboardInterrupt\u001b[0m: "
          ]
        }
      ]
    },
    {
      "cell_type": "markdown",
      "source": [
        "2. #csv파일로 병합 >> 하나의 csv파일로 txt를 묶어줌 >>combined_labels.csv로 뽑힘"
      ],
      "metadata": {
        "id": "a3PNgIYq7eUU"
      }
    },
    {
      "cell_type": "code",
      "source": [
        "#csv파일로 병합\n",
        "import csv\n",
        "import os\n",
        "from pathlib import Path\n",
        "\n",
        "def combine_labels_to_csv(labels_dir, output_csv):\n",
        "    # CSV 파일 열기\n",
        "    with open(output_csv, 'w', newline='') as csvfile:\n",
        "        csvwriter = csv.writer(csvfile)\n",
        "        # 헤더 추가\n",
        "        csvwriter.writerow(['Frame', 'Class ID', 'x_center', 'y_center', 'width', 'height', 'Confidence'])\n",
        "\n",
        "        # labels 디렉토리의 모든 txt 파일을 처리\n",
        "        for label_file in sorted(Path(labels_dir).glob('*.txt')):\n",
        "            # 파일 이름에서 프레임 번호 추출\n",
        "            frame = label_file.stem.split('_')[-1]\n",
        "\n",
        "            with open(label_file, 'r') as f:\n",
        "                lines = f.readlines()\n",
        "                for line in lines:\n",
        "                    parts = line.strip().split()\n",
        "                    if len(parts) >= 5:  # 5개 이상의 요소가 있는지 확인\n",
        "                        class_id = parts[0]\n",
        "                        x_center = parts[1]\n",
        "                        y_center = parts[2]\n",
        "                        width = parts[3]\n",
        "                        height = parts[4]\n",
        "                        conf = parts[5] if len(parts) > 5 else ''  # 신뢰도는 옵션\n",
        "\n",
        "                        # CSV 파일에 작성\n",
        "                        csvwriter.writerow([frame, class_id, x_center, y_center, width, height, conf])\n",
        "\n",
        "    print(f\"CSV 파일이 {output_csv}로 저장되었습니다.\")\n",
        "\n",
        "if __name__ == \"__main__\":\n",
        "    labels_dir = '/content/drive/MyDrive/video_and_annotation/label/label_video4'  # labels 디렉토리 경로 : /content/drive/MyDrive/minju_sample/models/exp/labels\n",
        "    output_csv = '/content/drive/MyDrive/video_and_annotation/result_video4/models/exp/combined_labels.csv'  # 출력 CSV 파일 경로 (결과물) : /content/drive/MyDrive/minju_sample/models/exp/combined_labels.csv\n",
        "\n",
        "    combine_labels_to_csv(labels_dir, output_csv)\n"
      ],
      "metadata": {
        "colab": {
          "base_uri": "https://localhost:8080/"
        },
        "id": "fa6Py_PG7k8q",
        "outputId": "c1088dcb-b405-4f22-8611-cbdb13d39c0e"
      },
      "execution_count": null,
      "outputs": [
        {
          "output_type": "stream",
          "name": "stdout",
          "text": [
            "CSV 파일이 /content/drive/MyDrive/video_and_annotation/result_video3/models/exp/combined_labels.csv로 저장되었습니다.\n"
          ]
        }
      ]
    },
    {
      "cell_type": "markdown",
      "source": [
        "3. classID기준으로 뽑아내기>> filtered_labels.csv"
      ],
      "metadata": {
        "id": "XtTU6ADeD2gQ"
      }
    },
    {
      "cell_type": "code",
      "source": [
        "#classID = 1(garbage)인것만 판별하기\n",
        "\n",
        "import csv\n",
        "from pathlib import Path\n",
        "\n",
        "def extract_class_1_to_csv(labels_dir, output_csv):\n",
        "    # CSV 파일 열기\n",
        "    with open(output_csv, 'w', newline='') as csvfile:\n",
        "        csvwriter = csv.writer(csvfile)\n",
        "        # 헤더 추가\n",
        "        csvwriter.writerow(['Frame', 'Class ID', 'x_center', 'y_center', 'width', 'height', 'Confidence'])\n",
        "\n",
        "        # labels 디렉토리의 모든 txt 파일을 처리\n",
        "        for label_file in sorted(Path(labels_dir).glob('*.txt')):\n",
        "            # 파일 이름에서 프레임 번호 추출\n",
        "            frame = label_file.stem.split('_')[-1]\n",
        "\n",
        "            with open(label_file, 'r') as f:\n",
        "                lines = f.readlines()\n",
        "                for line in lines:\n",
        "                    parts = line.strip().split()\n",
        "                    if len(parts) >= 5 and parts[0] == '0':  # 클래스 ID가 1 인지 확인(garbage)\n",
        "                        class_id = parts[0]\n",
        "                        x_center = parts[1]\n",
        "                        y_center = parts[2]\n",
        "                        width = parts[3]\n",
        "                        height = parts[4]\n",
        "                        conf = parts[5] if len(parts) > 5 else ''  # 신뢰도는 옵션\n",
        "\n",
        "                        # CSV 파일에 작성\n",
        "                        csvwriter.writerow([frame, class_id, x_center, y_center, width, height, conf])\n",
        "\n",
        "    print(f\"Class ID가 1인 항목만 {output_csv}로 저장되었습니다.\")\n",
        "\n",
        "if __name__ == \"__main__\":\n",
        "    labels_dir = '/content/drive/MyDrive/video_and_annotation/label/label_video3'  # labels 디렉토리 경로\n",
        "    output_csv = '/content/drive/MyDrive/video_and_annotation/result_video3/models/exp/filtered_labels.csv'  # 출력 CSV 파일 경로 : '/content/drive/MyDrive/minju_sample/models/exp/filtered_labels.csv'\n",
        "\n",
        "    extract_class_2_to_csv(labels_dir, output_csv)\n",
        "\n"
      ],
      "metadata": {
        "colab": {
          "base_uri": "https://localhost:8080/"
        },
        "id": "mgnPGOBKAtwX",
        "outputId": "63283d3d-8da2-488a-8dcd-dc44c7202596"
      },
      "execution_count": null,
      "outputs": [
        {
          "output_type": "stream",
          "name": "stdout",
          "text": [
            "Class ID가 1인 항목만 /content/drive/MyDrive/video_and_annotation/result_video3/models/exp/filtered_labels.csv로 저장되었습니다.\n"
          ]
        }
      ]
    },
    {
      "cell_type": "code",
      "source": [
        "#오름차순 정렬\n",
        "import pandas as pd\n",
        "\n",
        "def sort_csv_descending(csv_file_path, output_csv_path):\n",
        "    # CSV 파일 로드\n",
        "    df = pd.read_csv(csv_file_path)\n",
        "\n",
        "    # 프레임 번호를 기준으로 내림차순 정렬\n",
        "    df_sorted = df.sort_values(by='Frame', ascending=True)\n",
        "\n",
        "    # 정렬된 데이터프레임을 새로운 CSV 파일로 저장\n",
        "    df_sorted.to_csv(output_csv_path, index=False)\n",
        "\n",
        "    print(f\"정렬된 파일이 {output_csv_path}로 저장되었습니다.\")\n",
        "\n",
        "if __name__ == \"__main__\":\n",
        "    input_csv_path = '/content/drive/MyDrive/video_and_annotation/result_video3/models/exp/filtered_labels.csv'  # 정렬할 CSV 파일 경로\n",
        "    output_csv_path = '/content/drive/MyDrive/video_and_annotation/result_video3/models/exp/filtered_ascending_labels.csv'  # 정렬된 결과를 저장할 CSV 파일 경로\n",
        "\n",
        "    sort_csv_descending(input_csv_path, output_csv_path)"
      ],
      "metadata": {
        "colab": {
          "base_uri": "https://localhost:8080/"
        },
        "id": "ahwziHIY_uoB",
        "outputId": "782e4659-1a1f-42aa-b972-b0fb3898e060"
      },
      "execution_count": null,
      "outputs": [
        {
          "output_type": "stream",
          "name": "stdout",
          "text": [
            "정렬된 파일이 /content/drive/MyDrive/video_and_annotation/result_video3/models/exp/filtered_ascending_labels.csv로 저장되었습니다.\n"
          ]
        }
      ]
    },
    {
      "cell_type": "markdown",
      "source": [
        "4. #쓰레기수 증가할때 1 사람수 증가할때 2 코드에서 쓰레기수가 0~1도 감지하는지 확인"
      ],
      "metadata": {
        "id": "Dfl_YQynDlxd"
      }
    },
    {
      "cell_type": "code",
      "source": [
        "#쓰레기 수 증가할때:1 /사람수 증가할때 :2\n",
        "import pandas as pd\n",
        "\n",
        "def find_frames_with_increasing_class_id(csv_file_path):\n",
        "    # CSV 파일 로드\n",
        "    df = pd.read_csv(csv_file_path)\n",
        "\n",
        "    # 프레임별 Class ID가 1인 항목 개수\n",
        "    class_1_counts = df[df['Class ID'] == 0].groupby('Frame').size()\n",
        "    class_1_counts_df = class_1_counts.reset_index(name='Count')\n",
        "    first_frame = class_1_counts_df['Frame'][0]\n",
        "\n",
        "    # 삽입할 새로운 행 (DataFrame 형태로 만들어줌)\n",
        "    new_row = pd.DataFrame({'Frame': [first_frame - 1 ], 'Count': [0]})\n",
        "\n",
        "    # 새로운 행을 기존 DataFrame의 처음에 삽입\n",
        "    class_1_counts_df = pd.concat([new_row, class_1_counts_df], ignore_index=True)\n",
        "\n",
        "    print(class_1_counts_df)\n",
        "\n",
        "    # 이전 프레임보다 Class ID가 1인 항목 개수가 증가한 프레임\n",
        "    increasing_frames = class_1_counts_df[class_1_counts_df['Count'].diff() > 0]\n",
        "    last_frame = class_1_counts_df.index[-1]\n",
        "    if last_frame not in increasing_frames.index:\n",
        "        last_frame_series = pd.Series([class_1_counts[last_frame]], index=[last_frame])\n",
        "        increasing_frames = pd.concat([increasing_frames, last_frame_series])\n",
        "\n",
        "    return increasing_frames\n",
        "\n",
        "if __name__ == \"__main__\":\n",
        "    csv_file_path = '/content/drive/MyDrive/video_and_annotation/result_video3/models/exp/filtered_ascending_labels.csv'  # CSV 파일 경로\n",
        "    increasing_frames = find_frames_with_increasing_class_id(csv_file_path)\n",
        "\n",
        "    print(\"Class ID가 1인 항목이 늘어나는 프레임:\")\n",
        "    print(increasing_frames)\n",
        "\n",
        "    # 결과를 CSV로 저장하려면 다음 줄을 추가\n",
        "    increasing_frames.to_csv('/content/drive/MyDrive/video_and_annotation/result_video3/models/exp/increasing_frames.csv', header=True)\n"
      ],
      "metadata": {
        "colab": {
          "base_uri": "https://localhost:8080/"
        },
        "id": "A3hvFSVfDscb",
        "outputId": "1fe9bc81-e490-48fe-9104-02cb50ec1106"
      },
      "execution_count": null,
      "outputs": [
        {
          "output_type": "stream",
          "name": "stdout",
          "text": [
            "     Frame  Count\n",
            "0       37      0\n",
            "1       38      1\n",
            "2       39      1\n",
            "3       40      1\n",
            "4       41      1\n",
            "..     ...    ...\n",
            "319    356      4\n",
            "320    357      4\n",
            "321    358      4\n",
            "322    359      4\n",
            "323    360      4\n",
            "\n",
            "[324 rows x 2 columns]\n",
            "Class ID가 1인 항목이 늘어나는 프레임:\n",
            "     Frame  Count    0\n",
            "1     38.0    1.0  NaN\n",
            "23    60.0    2.0  NaN\n",
            "114  151.0    2.0  NaN\n",
            "193  230.0    3.0  NaN\n",
            "249  286.0    4.0  NaN\n",
            "323    NaN    NaN  4.0\n"
          ]
        }
      ]
    },
    {
      "cell_type": "markdown",
      "source": [
        "### main 함수"
      ],
      "metadata": {
        "id": "8Vo7IwROadZ0"
      }
    },
    {
      "cell_type": "code",
      "source": [
        "import pandas as pd\n",
        "\n",
        "def find_last_changes_from_csv(csv_file_path):\n",
        "    # CSV 파일 로드\n",
        "    df = pd.read_csv(csv_file_path)\n",
        "    # df.columns = ['Frame', 'Value']\n",
        "    frames_series = pd.Series(df['Count'].values, index=df['Frame'])\n",
        "\n",
        "    # 마지막 프레임의 값을 찾음\n",
        "    last_value = frames_series.iloc[-2]\n",
        "\n",
        "    # 마지막 값 이하의 프레임을 필터링\n",
        "    filtered_series = frames_series[frames_series <= last_value]\n",
        "\n",
        "    # 각 값의 마지막 변화를 찾음\n",
        "    unique_values = filtered_series.unique()\n",
        "    last_changes = {value: filtered_series[filtered_series == value].index[-1] for value in unique_values}\n",
        "\n",
        "    return last_changes\n",
        "\n",
        "\n",
        "if __name__ == \"__main__\":\n",
        "    csv_file_path = '/content/drive/MyDrive/video_and_annotation/result_video3/models/exp/increasing_frames.csv'  # CSV 파일 경로\n",
        "\n",
        "    # 마지막 변화 프레임 찾기\n",
        "    last_changes = find_last_changes_from_csv(csv_file_path)\n",
        "\n",
        "    print(\"마지막 변화 프레임:\")\n",
        "    for value, frame in last_changes.items():\n",
        "        print(f\"{int(value)}번째 쓰레기 투척:{int(frame)}번 프레임\")\n",
        "\n"
      ],
      "metadata": {
        "colab": {
          "base_uri": "https://localhost:8080/"
        },
        "id": "c-bK5l3pDSKJ",
        "outputId": "c1f69fba-81f4-438e-c1f0-28488ca7019d"
      },
      "execution_count": null,
      "outputs": [
        {
          "output_type": "stream",
          "name": "stdout",
          "text": [
            "마지막 변화 프레임:\n",
            "1번째 쓰레기 투척:38번 프레임\n",
            "2번째 쓰레기 투척:151번 프레임\n",
            "3번째 쓰레기 투척:230번 프레임\n",
            "4번째 쓰레기 투척:286번 프레임\n"
          ]
        }
      ]
    },
    {
      "cell_type": "code",
      "source": [
        "# 쓰레기 무단 투기 {n번째 : m번째 프레임}\n",
        "last_changes"
      ],
      "metadata": {
        "colab": {
          "base_uri": "https://localhost:8080/"
        },
        "id": "5dgC-WN_nadY",
        "outputId": "3c439236-1962-41cb-969c-030760c93001"
      },
      "execution_count": null,
      "outputs": [
        {
          "output_type": "execute_result",
          "data": {
            "text/plain": [
              "{1.0: 38.0, 2.0: 151.0, 3.0: 230.0, 4.0: 286.0}"
            ]
          },
          "metadata": {},
          "execution_count": 38
        }
      ]
    },
    {
      "cell_type": "code",
      "source": [],
      "metadata": {
        "id": "mE0YHCdDZJiu"
      },
      "execution_count": null,
      "outputs": []
    },
    {
      "cell_type": "code",
      "source": [],
      "metadata": {
        "id": "P_FfXiNhWwQI"
      },
      "execution_count": null,
      "outputs": []
    }
  ]
}